{
  "nbformat": 4,
  "nbformat_minor": 0,
  "metadata": {
    "colab": {
      "name": "EURO_FOREX_RATE_PREDICTION.ipynb",
      "provenance": [],
      "collapsed_sections": [],
      "include_colab_link": true
    },
    "kernelspec": {
      "name": "python3",
      "display_name": "Python 3"
    },
    "language_info": {
      "name": "python"
    }
  },
  "cells": [
    {
      "cell_type": "markdown",
      "metadata": {
        "id": "view-in-github",
        "colab_type": "text"
      },
      "source": [
        "<a href=\"https://colab.research.google.com/github/TharinduBalasooriya/ML_Assignment2_IT19122656_IT18408584_IT19193632_IT19170008/blob/main/EURO_FOREX_RATE_PREDICTION.ipynb\" target=\"_parent\"><img src=\"https://colab.research.google.com/assets/colab-badge.svg\" alt=\"Open In Colab\"/></a>"
      ]
    },
    {
      "cell_type": "code",
      "execution_count": null,
      "metadata": {
        "id": "HsZV8CVCy125"
      },
      "outputs": [],
      "source": [
        "#PREDICT EURO Value againtes other foriegn currency exhange rates\n",
        "\n",
        "import numpy as np\n",
        "import pandas as pd\n",
        "import matplotlib.pyplot as plt\n",
        "import seaborn as sns\n",
        "from sklearn.model_selection import train_test_split\n",
        "from sklearn.ensemble import RandomForestRegressor\n",
        "from sklearn import metrics\n",
        "import missingno as msno\n"
      ]
    },
    {
      "cell_type": "code",
      "source": [
        "forex_data = pd.read_csv('/content/ECB_FX_USD-quote.csv')"
      ],
      "metadata": {
        "id": "xhJw6Vuo2lo2",
        "colab": {
          "base_uri": "https://localhost:8080/",
          "height": 363
        },
        "outputId": "53100fcc-f882-46ca-94bf-68be38e1bac1"
      },
      "execution_count": null,
      "outputs": [
        {
          "output_type": "error",
          "ename": "FileNotFoundError",
          "evalue": "ignored",
          "traceback": [
            "\u001b[0;31m---------------------------------------------------------------------------\u001b[0m",
            "\u001b[0;31mFileNotFoundError\u001b[0m                         Traceback (most recent call last)",
            "\u001b[0;32m<ipython-input-6-45b88070941d>\u001b[0m in \u001b[0;36m<module>\u001b[0;34m()\u001b[0m\n\u001b[0;32m----> 1\u001b[0;31m \u001b[0mforex_data\u001b[0m \u001b[0;34m=\u001b[0m \u001b[0mpd\u001b[0m\u001b[0;34m.\u001b[0m\u001b[0mread_csv\u001b[0m\u001b[0;34m(\u001b[0m\u001b[0;34m'/content/ECB_FX_USD-quote.csv'\u001b[0m\u001b[0;34m)\u001b[0m\u001b[0;34m\u001b[0m\u001b[0;34m\u001b[0m\u001b[0m\n\u001b[0m",
            "\u001b[0;32m/usr/local/lib/python3.7/dist-packages/pandas/util/_decorators.py\u001b[0m in \u001b[0;36mwrapper\u001b[0;34m(*args, **kwargs)\u001b[0m\n\u001b[1;32m    309\u001b[0m                     \u001b[0mstacklevel\u001b[0m\u001b[0;34m=\u001b[0m\u001b[0mstacklevel\u001b[0m\u001b[0;34m,\u001b[0m\u001b[0;34m\u001b[0m\u001b[0;34m\u001b[0m\u001b[0m\n\u001b[1;32m    310\u001b[0m                 )\n\u001b[0;32m--> 311\u001b[0;31m             \u001b[0;32mreturn\u001b[0m \u001b[0mfunc\u001b[0m\u001b[0;34m(\u001b[0m\u001b[0;34m*\u001b[0m\u001b[0margs\u001b[0m\u001b[0;34m,\u001b[0m \u001b[0;34m**\u001b[0m\u001b[0mkwargs\u001b[0m\u001b[0;34m)\u001b[0m\u001b[0;34m\u001b[0m\u001b[0;34m\u001b[0m\u001b[0m\n\u001b[0m\u001b[1;32m    312\u001b[0m \u001b[0;34m\u001b[0m\u001b[0m\n\u001b[1;32m    313\u001b[0m         \u001b[0;32mreturn\u001b[0m \u001b[0mwrapper\u001b[0m\u001b[0;34m\u001b[0m\u001b[0;34m\u001b[0m\u001b[0m\n",
            "\u001b[0;32m/usr/local/lib/python3.7/dist-packages/pandas/io/parsers/readers.py\u001b[0m in \u001b[0;36mread_csv\u001b[0;34m(filepath_or_buffer, sep, delimiter, header, names, index_col, usecols, squeeze, prefix, mangle_dupe_cols, dtype, engine, converters, true_values, false_values, skipinitialspace, skiprows, skipfooter, nrows, na_values, keep_default_na, na_filter, verbose, skip_blank_lines, parse_dates, infer_datetime_format, keep_date_col, date_parser, dayfirst, cache_dates, iterator, chunksize, compression, thousands, decimal, lineterminator, quotechar, quoting, doublequote, escapechar, comment, encoding, encoding_errors, dialect, error_bad_lines, warn_bad_lines, on_bad_lines, delim_whitespace, low_memory, memory_map, float_precision, storage_options)\u001b[0m\n\u001b[1;32m    584\u001b[0m     \u001b[0mkwds\u001b[0m\u001b[0;34m.\u001b[0m\u001b[0mupdate\u001b[0m\u001b[0;34m(\u001b[0m\u001b[0mkwds_defaults\u001b[0m\u001b[0;34m)\u001b[0m\u001b[0;34m\u001b[0m\u001b[0;34m\u001b[0m\u001b[0m\n\u001b[1;32m    585\u001b[0m \u001b[0;34m\u001b[0m\u001b[0m\n\u001b[0;32m--> 586\u001b[0;31m     \u001b[0;32mreturn\u001b[0m \u001b[0m_read\u001b[0m\u001b[0;34m(\u001b[0m\u001b[0mfilepath_or_buffer\u001b[0m\u001b[0;34m,\u001b[0m \u001b[0mkwds\u001b[0m\u001b[0;34m)\u001b[0m\u001b[0;34m\u001b[0m\u001b[0;34m\u001b[0m\u001b[0m\n\u001b[0m\u001b[1;32m    587\u001b[0m \u001b[0;34m\u001b[0m\u001b[0m\n\u001b[1;32m    588\u001b[0m \u001b[0;34m\u001b[0m\u001b[0m\n",
            "\u001b[0;32m/usr/local/lib/python3.7/dist-packages/pandas/io/parsers/readers.py\u001b[0m in \u001b[0;36m_read\u001b[0;34m(filepath_or_buffer, kwds)\u001b[0m\n\u001b[1;32m    480\u001b[0m \u001b[0;34m\u001b[0m\u001b[0m\n\u001b[1;32m    481\u001b[0m     \u001b[0;31m# Create the parser.\u001b[0m\u001b[0;34m\u001b[0m\u001b[0;34m\u001b[0m\u001b[0;34m\u001b[0m\u001b[0m\n\u001b[0;32m--> 482\u001b[0;31m     \u001b[0mparser\u001b[0m \u001b[0;34m=\u001b[0m \u001b[0mTextFileReader\u001b[0m\u001b[0;34m(\u001b[0m\u001b[0mfilepath_or_buffer\u001b[0m\u001b[0;34m,\u001b[0m \u001b[0;34m**\u001b[0m\u001b[0mkwds\u001b[0m\u001b[0;34m)\u001b[0m\u001b[0;34m\u001b[0m\u001b[0;34m\u001b[0m\u001b[0m\n\u001b[0m\u001b[1;32m    483\u001b[0m \u001b[0;34m\u001b[0m\u001b[0m\n\u001b[1;32m    484\u001b[0m     \u001b[0;32mif\u001b[0m \u001b[0mchunksize\u001b[0m \u001b[0;32mor\u001b[0m \u001b[0miterator\u001b[0m\u001b[0;34m:\u001b[0m\u001b[0;34m\u001b[0m\u001b[0;34m\u001b[0m\u001b[0m\n",
            "\u001b[0;32m/usr/local/lib/python3.7/dist-packages/pandas/io/parsers/readers.py\u001b[0m in \u001b[0;36m__init__\u001b[0;34m(self, f, engine, **kwds)\u001b[0m\n\u001b[1;32m    809\u001b[0m             \u001b[0mself\u001b[0m\u001b[0;34m.\u001b[0m\u001b[0moptions\u001b[0m\u001b[0;34m[\u001b[0m\u001b[0;34m\"has_index_names\"\u001b[0m\u001b[0;34m]\u001b[0m \u001b[0;34m=\u001b[0m \u001b[0mkwds\u001b[0m\u001b[0;34m[\u001b[0m\u001b[0;34m\"has_index_names\"\u001b[0m\u001b[0;34m]\u001b[0m\u001b[0;34m\u001b[0m\u001b[0;34m\u001b[0m\u001b[0m\n\u001b[1;32m    810\u001b[0m \u001b[0;34m\u001b[0m\u001b[0m\n\u001b[0;32m--> 811\u001b[0;31m         \u001b[0mself\u001b[0m\u001b[0;34m.\u001b[0m\u001b[0m_engine\u001b[0m \u001b[0;34m=\u001b[0m \u001b[0mself\u001b[0m\u001b[0;34m.\u001b[0m\u001b[0m_make_engine\u001b[0m\u001b[0;34m(\u001b[0m\u001b[0mself\u001b[0m\u001b[0;34m.\u001b[0m\u001b[0mengine\u001b[0m\u001b[0;34m)\u001b[0m\u001b[0;34m\u001b[0m\u001b[0;34m\u001b[0m\u001b[0m\n\u001b[0m\u001b[1;32m    812\u001b[0m \u001b[0;34m\u001b[0m\u001b[0m\n\u001b[1;32m    813\u001b[0m     \u001b[0;32mdef\u001b[0m \u001b[0mclose\u001b[0m\u001b[0;34m(\u001b[0m\u001b[0mself\u001b[0m\u001b[0;34m)\u001b[0m\u001b[0;34m:\u001b[0m\u001b[0;34m\u001b[0m\u001b[0;34m\u001b[0m\u001b[0m\n",
            "\u001b[0;32m/usr/local/lib/python3.7/dist-packages/pandas/io/parsers/readers.py\u001b[0m in \u001b[0;36m_make_engine\u001b[0;34m(self, engine)\u001b[0m\n\u001b[1;32m   1038\u001b[0m             )\n\u001b[1;32m   1039\u001b[0m         \u001b[0;31m# error: Too many arguments for \"ParserBase\"\u001b[0m\u001b[0;34m\u001b[0m\u001b[0;34m\u001b[0m\u001b[0;34m\u001b[0m\u001b[0m\n\u001b[0;32m-> 1040\u001b[0;31m         \u001b[0;32mreturn\u001b[0m \u001b[0mmapping\u001b[0m\u001b[0;34m[\u001b[0m\u001b[0mengine\u001b[0m\u001b[0;34m]\u001b[0m\u001b[0;34m(\u001b[0m\u001b[0mself\u001b[0m\u001b[0;34m.\u001b[0m\u001b[0mf\u001b[0m\u001b[0;34m,\u001b[0m \u001b[0;34m**\u001b[0m\u001b[0mself\u001b[0m\u001b[0;34m.\u001b[0m\u001b[0moptions\u001b[0m\u001b[0;34m)\u001b[0m  \u001b[0;31m# type: ignore[call-arg]\u001b[0m\u001b[0;34m\u001b[0m\u001b[0;34m\u001b[0m\u001b[0m\n\u001b[0m\u001b[1;32m   1041\u001b[0m \u001b[0;34m\u001b[0m\u001b[0m\n\u001b[1;32m   1042\u001b[0m     \u001b[0;32mdef\u001b[0m \u001b[0m_failover_to_python\u001b[0m\u001b[0;34m(\u001b[0m\u001b[0mself\u001b[0m\u001b[0;34m)\u001b[0m\u001b[0;34m:\u001b[0m\u001b[0;34m\u001b[0m\u001b[0;34m\u001b[0m\u001b[0m\n",
            "\u001b[0;32m/usr/local/lib/python3.7/dist-packages/pandas/io/parsers/c_parser_wrapper.py\u001b[0m in \u001b[0;36m__init__\u001b[0;34m(self, src, **kwds)\u001b[0m\n\u001b[1;32m     49\u001b[0m \u001b[0;34m\u001b[0m\u001b[0m\n\u001b[1;32m     50\u001b[0m         \u001b[0;31m# open handles\u001b[0m\u001b[0;34m\u001b[0m\u001b[0;34m\u001b[0m\u001b[0;34m\u001b[0m\u001b[0m\n\u001b[0;32m---> 51\u001b[0;31m         \u001b[0mself\u001b[0m\u001b[0;34m.\u001b[0m\u001b[0m_open_handles\u001b[0m\u001b[0;34m(\u001b[0m\u001b[0msrc\u001b[0m\u001b[0;34m,\u001b[0m \u001b[0mkwds\u001b[0m\u001b[0;34m)\u001b[0m\u001b[0;34m\u001b[0m\u001b[0;34m\u001b[0m\u001b[0m\n\u001b[0m\u001b[1;32m     52\u001b[0m         \u001b[0;32massert\u001b[0m \u001b[0mself\u001b[0m\u001b[0;34m.\u001b[0m\u001b[0mhandles\u001b[0m \u001b[0;32mis\u001b[0m \u001b[0;32mnot\u001b[0m \u001b[0;32mNone\u001b[0m\u001b[0;34m\u001b[0m\u001b[0;34m\u001b[0m\u001b[0m\n\u001b[1;32m     53\u001b[0m \u001b[0;34m\u001b[0m\u001b[0m\n",
            "\u001b[0;32m/usr/local/lib/python3.7/dist-packages/pandas/io/parsers/base_parser.py\u001b[0m in \u001b[0;36m_open_handles\u001b[0;34m(self, src, kwds)\u001b[0m\n\u001b[1;32m    227\u001b[0m             \u001b[0mmemory_map\u001b[0m\u001b[0;34m=\u001b[0m\u001b[0mkwds\u001b[0m\u001b[0;34m.\u001b[0m\u001b[0mget\u001b[0m\u001b[0;34m(\u001b[0m\u001b[0;34m\"memory_map\"\u001b[0m\u001b[0;34m,\u001b[0m \u001b[0;32mFalse\u001b[0m\u001b[0;34m)\u001b[0m\u001b[0;34m,\u001b[0m\u001b[0;34m\u001b[0m\u001b[0;34m\u001b[0m\u001b[0m\n\u001b[1;32m    228\u001b[0m             \u001b[0mstorage_options\u001b[0m\u001b[0;34m=\u001b[0m\u001b[0mkwds\u001b[0m\u001b[0;34m.\u001b[0m\u001b[0mget\u001b[0m\u001b[0;34m(\u001b[0m\u001b[0;34m\"storage_options\"\u001b[0m\u001b[0;34m,\u001b[0m \u001b[0;32mNone\u001b[0m\u001b[0;34m)\u001b[0m\u001b[0;34m,\u001b[0m\u001b[0;34m\u001b[0m\u001b[0;34m\u001b[0m\u001b[0m\n\u001b[0;32m--> 229\u001b[0;31m             \u001b[0merrors\u001b[0m\u001b[0;34m=\u001b[0m\u001b[0mkwds\u001b[0m\u001b[0;34m.\u001b[0m\u001b[0mget\u001b[0m\u001b[0;34m(\u001b[0m\u001b[0;34m\"encoding_errors\"\u001b[0m\u001b[0;34m,\u001b[0m \u001b[0;34m\"strict\"\u001b[0m\u001b[0;34m)\u001b[0m\u001b[0;34m,\u001b[0m\u001b[0;34m\u001b[0m\u001b[0;34m\u001b[0m\u001b[0m\n\u001b[0m\u001b[1;32m    230\u001b[0m         )\n\u001b[1;32m    231\u001b[0m \u001b[0;34m\u001b[0m\u001b[0m\n",
            "\u001b[0;32m/usr/local/lib/python3.7/dist-packages/pandas/io/common.py\u001b[0m in \u001b[0;36mget_handle\u001b[0;34m(path_or_buf, mode, encoding, compression, memory_map, is_text, errors, storage_options)\u001b[0m\n\u001b[1;32m    705\u001b[0m                 \u001b[0mencoding\u001b[0m\u001b[0;34m=\u001b[0m\u001b[0mioargs\u001b[0m\u001b[0;34m.\u001b[0m\u001b[0mencoding\u001b[0m\u001b[0;34m,\u001b[0m\u001b[0;34m\u001b[0m\u001b[0;34m\u001b[0m\u001b[0m\n\u001b[1;32m    706\u001b[0m                 \u001b[0merrors\u001b[0m\u001b[0;34m=\u001b[0m\u001b[0merrors\u001b[0m\u001b[0;34m,\u001b[0m\u001b[0;34m\u001b[0m\u001b[0;34m\u001b[0m\u001b[0m\n\u001b[0;32m--> 707\u001b[0;31m                 \u001b[0mnewline\u001b[0m\u001b[0;34m=\u001b[0m\u001b[0;34m\"\"\u001b[0m\u001b[0;34m,\u001b[0m\u001b[0;34m\u001b[0m\u001b[0;34m\u001b[0m\u001b[0m\n\u001b[0m\u001b[1;32m    708\u001b[0m             )\n\u001b[1;32m    709\u001b[0m         \u001b[0;32melse\u001b[0m\u001b[0;34m:\u001b[0m\u001b[0;34m\u001b[0m\u001b[0;34m\u001b[0m\u001b[0m\n",
            "\u001b[0;31mFileNotFoundError\u001b[0m: [Errno 2] No such file or directory: '/content/ECB_FX_USD-quote.csv'"
          ]
        }
      ]
    },
    {
      "cell_type": "code",
      "source": [
        ""
      ],
      "metadata": {
        "id": "VmKnvQBT44gF"
      },
      "execution_count": null,
      "outputs": []
    },
    {
      "cell_type": "code",
      "source": [
        ""
      ],
      "metadata": {
        "id": "iBCIW7AA45dT"
      },
      "execution_count": null,
      "outputs": []
    },
    {
      "cell_type": "code",
      "source": [
        "forex_data.head()"
      ],
      "metadata": {
        "colab": {
          "base_uri": "https://localhost:8080/",
          "height": 369
        },
        "id": "6vgKXaCf24h1",
        "outputId": "42dabc03-15cc-4322-f74a-d225113d3c77"
      },
      "execution_count": null,
      "outputs": [
        {
          "output_type": "execute_result",
          "data": {
            "text/plain": [
              "         Date         EUR                   JPY                 BGN  \\\n",
              "0       #date  #value+eur            #value+jpy          #value+bgn   \n",
              "1  2022-05-20      1.0577  0.007815132259494607  0.5408017179670723   \n",
              "2  2022-05-19      1.0525  0.007827606723189051  0.5381429594028019   \n",
              "3  2022-05-18      1.0523  0.007751178550383029  0.5380406994580224   \n",
              "4  2022-05-17      1.0541  0.007732541079812207   0.538961038961039   \n",
              "\n",
              "                    CZK                  DKK                 GBP  \\\n",
              "0            #value+czk           #value+dkk          #value+gbp   \n",
              "1   0.04287393595460073   0.1421181339352897  1.2469936335769867   \n",
              "2   0.04261133603238867  0.14142133480241323  1.2422103672929845   \n",
              "3    0.0426948513003611  0.14140206130154934  1.2428250856265501   \n",
              "4  0.042655390093881515  0.14165345230736154  1.2489336492890997   \n",
              "\n",
              "                     HUF                  PLN                  RON  ...  \\\n",
              "0             #value+huf           #value+pln           #value+ron  ...   \n",
              "1    0.00276212362572794  0.22812466300010786   0.2137760979849223  ...   \n",
              "2   0.002727885338102273   0.2267195140339918  0.21273800379997573  ...   \n",
              "3   0.002748380693689929   0.2265788170445492   0.2127018777919269  ...   \n",
              "4  0.0027287082578307015  0.22674668731715714  0.21304418125227376  ...   \n",
              "\n",
              "                   ILS                   INR                    KRW  \\\n",
              "0           #value+ils            #value+inr             #value+krw   \n",
              "1    0.299377299745259  0.012873394781266699  0.0007889868564352744   \n",
              "2   0.2954551834488954  0.012880683869467578  0.0007835707000394576   \n",
              "3  0.29844015882019287  0.012888646649233577  0.0007895645127404784   \n",
              "4  0.29787775171673214  0.012909744462747164  0.0007903813565676409   \n",
              "\n",
              "                   MXN                  MYR                 NZD  \\\n",
              "0           #value+mxn           #value+myr          #value+nzd   \n",
              "1  0.05029146894643248  0.22784455646029902  0.6403317592928927   \n",
              "2  0.05010878724832534  0.22701291978517352  0.6359132378708235   \n",
              "3  0.05030018546490507  0.22750464824663813  0.6359076625574087   \n",
              "4  0.05013006900553091  0.22810586224059207   0.636495380713725   \n",
              "\n",
              "                    PHP                 SGD                   THB  \\\n",
              "0            #value+php          #value+sgd            #value+thb   \n",
              "1   0.01916782950653305  0.7250479846449136  0.029150589791643703   \n",
              "2   0.01908777656873413  0.7220773874862788  0.028960184904933548   \n",
              "3  0.019105978902264103  0.7208521715303466  0.028910134893815765   \n",
              "4  0.019117833759544407  0.7225306737953252   0.02898985176425291   \n",
              "\n",
              "                   ZAR  \n",
              "0           #value+zar  \n",
              "1  0.06328568607858506  \n",
              "2  0.06253156284347801  \n",
              "3  0.06289409669302445  \n",
              "4  0.06258014723343623  \n",
              "\n",
              "[5 rows x 34 columns]"
            ],
            "text/html": [
              "\n",
              "  <div id=\"df-9a04e7fd-da9b-40b1-a56d-13736486d7e0\">\n",
              "    <div class=\"colab-df-container\">\n",
              "      <div>\n",
              "<style scoped>\n",
              "    .dataframe tbody tr th:only-of-type {\n",
              "        vertical-align: middle;\n",
              "    }\n",
              "\n",
              "    .dataframe tbody tr th {\n",
              "        vertical-align: top;\n",
              "    }\n",
              "\n",
              "    .dataframe thead th {\n",
              "        text-align: right;\n",
              "    }\n",
              "</style>\n",
              "<table border=\"1\" class=\"dataframe\">\n",
              "  <thead>\n",
              "    <tr style=\"text-align: right;\">\n",
              "      <th></th>\n",
              "      <th>Date</th>\n",
              "      <th>EUR</th>\n",
              "      <th>JPY</th>\n",
              "      <th>BGN</th>\n",
              "      <th>CZK</th>\n",
              "      <th>DKK</th>\n",
              "      <th>GBP</th>\n",
              "      <th>HUF</th>\n",
              "      <th>PLN</th>\n",
              "      <th>RON</th>\n",
              "      <th>...</th>\n",
              "      <th>ILS</th>\n",
              "      <th>INR</th>\n",
              "      <th>KRW</th>\n",
              "      <th>MXN</th>\n",
              "      <th>MYR</th>\n",
              "      <th>NZD</th>\n",
              "      <th>PHP</th>\n",
              "      <th>SGD</th>\n",
              "      <th>THB</th>\n",
              "      <th>ZAR</th>\n",
              "    </tr>\n",
              "  </thead>\n",
              "  <tbody>\n",
              "    <tr>\n",
              "      <th>0</th>\n",
              "      <td>#date</td>\n",
              "      <td>#value+eur</td>\n",
              "      <td>#value+jpy</td>\n",
              "      <td>#value+bgn</td>\n",
              "      <td>#value+czk</td>\n",
              "      <td>#value+dkk</td>\n",
              "      <td>#value+gbp</td>\n",
              "      <td>#value+huf</td>\n",
              "      <td>#value+pln</td>\n",
              "      <td>#value+ron</td>\n",
              "      <td>...</td>\n",
              "      <td>#value+ils</td>\n",
              "      <td>#value+inr</td>\n",
              "      <td>#value+krw</td>\n",
              "      <td>#value+mxn</td>\n",
              "      <td>#value+myr</td>\n",
              "      <td>#value+nzd</td>\n",
              "      <td>#value+php</td>\n",
              "      <td>#value+sgd</td>\n",
              "      <td>#value+thb</td>\n",
              "      <td>#value+zar</td>\n",
              "    </tr>\n",
              "    <tr>\n",
              "      <th>1</th>\n",
              "      <td>2022-05-20</td>\n",
              "      <td>1.0577</td>\n",
              "      <td>0.007815132259494607</td>\n",
              "      <td>0.5408017179670723</td>\n",
              "      <td>0.04287393595460073</td>\n",
              "      <td>0.1421181339352897</td>\n",
              "      <td>1.2469936335769867</td>\n",
              "      <td>0.00276212362572794</td>\n",
              "      <td>0.22812466300010786</td>\n",
              "      <td>0.2137760979849223</td>\n",
              "      <td>...</td>\n",
              "      <td>0.299377299745259</td>\n",
              "      <td>0.012873394781266699</td>\n",
              "      <td>0.0007889868564352744</td>\n",
              "      <td>0.05029146894643248</td>\n",
              "      <td>0.22784455646029902</td>\n",
              "      <td>0.6403317592928927</td>\n",
              "      <td>0.01916782950653305</td>\n",
              "      <td>0.7250479846449136</td>\n",
              "      <td>0.029150589791643703</td>\n",
              "      <td>0.06328568607858506</td>\n",
              "    </tr>\n",
              "    <tr>\n",
              "      <th>2</th>\n",
              "      <td>2022-05-19</td>\n",
              "      <td>1.0525</td>\n",
              "      <td>0.007827606723189051</td>\n",
              "      <td>0.5381429594028019</td>\n",
              "      <td>0.04261133603238867</td>\n",
              "      <td>0.14142133480241323</td>\n",
              "      <td>1.2422103672929845</td>\n",
              "      <td>0.002727885338102273</td>\n",
              "      <td>0.2267195140339918</td>\n",
              "      <td>0.21273800379997573</td>\n",
              "      <td>...</td>\n",
              "      <td>0.2954551834488954</td>\n",
              "      <td>0.012880683869467578</td>\n",
              "      <td>0.0007835707000394576</td>\n",
              "      <td>0.05010878724832534</td>\n",
              "      <td>0.22701291978517352</td>\n",
              "      <td>0.6359132378708235</td>\n",
              "      <td>0.01908777656873413</td>\n",
              "      <td>0.7220773874862788</td>\n",
              "      <td>0.028960184904933548</td>\n",
              "      <td>0.06253156284347801</td>\n",
              "    </tr>\n",
              "    <tr>\n",
              "      <th>3</th>\n",
              "      <td>2022-05-18</td>\n",
              "      <td>1.0523</td>\n",
              "      <td>0.007751178550383029</td>\n",
              "      <td>0.5380406994580224</td>\n",
              "      <td>0.0426948513003611</td>\n",
              "      <td>0.14140206130154934</td>\n",
              "      <td>1.2428250856265501</td>\n",
              "      <td>0.002748380693689929</td>\n",
              "      <td>0.2265788170445492</td>\n",
              "      <td>0.2127018777919269</td>\n",
              "      <td>...</td>\n",
              "      <td>0.29844015882019287</td>\n",
              "      <td>0.012888646649233577</td>\n",
              "      <td>0.0007895645127404784</td>\n",
              "      <td>0.05030018546490507</td>\n",
              "      <td>0.22750464824663813</td>\n",
              "      <td>0.6359076625574087</td>\n",
              "      <td>0.019105978902264103</td>\n",
              "      <td>0.7208521715303466</td>\n",
              "      <td>0.028910134893815765</td>\n",
              "      <td>0.06289409669302445</td>\n",
              "    </tr>\n",
              "    <tr>\n",
              "      <th>4</th>\n",
              "      <td>2022-05-17</td>\n",
              "      <td>1.0541</td>\n",
              "      <td>0.007732541079812207</td>\n",
              "      <td>0.538961038961039</td>\n",
              "      <td>0.042655390093881515</td>\n",
              "      <td>0.14165345230736154</td>\n",
              "      <td>1.2489336492890997</td>\n",
              "      <td>0.0027287082578307015</td>\n",
              "      <td>0.22674668731715714</td>\n",
              "      <td>0.21304418125227376</td>\n",
              "      <td>...</td>\n",
              "      <td>0.29787775171673214</td>\n",
              "      <td>0.012909744462747164</td>\n",
              "      <td>0.0007903813565676409</td>\n",
              "      <td>0.05013006900553091</td>\n",
              "      <td>0.22810586224059207</td>\n",
              "      <td>0.636495380713725</td>\n",
              "      <td>0.019117833759544407</td>\n",
              "      <td>0.7225306737953252</td>\n",
              "      <td>0.02898985176425291</td>\n",
              "      <td>0.06258014723343623</td>\n",
              "    </tr>\n",
              "  </tbody>\n",
              "</table>\n",
              "<p>5 rows × 34 columns</p>\n",
              "</div>\n",
              "      <button class=\"colab-df-convert\" onclick=\"convertToInteractive('df-9a04e7fd-da9b-40b1-a56d-13736486d7e0')\"\n",
              "              title=\"Convert this dataframe to an interactive table.\"\n",
              "              style=\"display:none;\">\n",
              "        \n",
              "  <svg xmlns=\"http://www.w3.org/2000/svg\" height=\"24px\"viewBox=\"0 0 24 24\"\n",
              "       width=\"24px\">\n",
              "    <path d=\"M0 0h24v24H0V0z\" fill=\"none\"/>\n",
              "    <path d=\"M18.56 5.44l.94 2.06.94-2.06 2.06-.94-2.06-.94-.94-2.06-.94 2.06-2.06.94zm-11 1L8.5 8.5l.94-2.06 2.06-.94-2.06-.94L8.5 2.5l-.94 2.06-2.06.94zm10 10l.94 2.06.94-2.06 2.06-.94-2.06-.94-.94-2.06-.94 2.06-2.06.94z\"/><path d=\"M17.41 7.96l-1.37-1.37c-.4-.4-.92-.59-1.43-.59-.52 0-1.04.2-1.43.59L10.3 9.45l-7.72 7.72c-.78.78-.78 2.05 0 2.83L4 21.41c.39.39.9.59 1.41.59.51 0 1.02-.2 1.41-.59l7.78-7.78 2.81-2.81c.8-.78.8-2.07 0-2.86zM5.41 20L4 18.59l7.72-7.72 1.47 1.35L5.41 20z\"/>\n",
              "  </svg>\n",
              "      </button>\n",
              "      \n",
              "  <style>\n",
              "    .colab-df-container {\n",
              "      display:flex;\n",
              "      flex-wrap:wrap;\n",
              "      gap: 12px;\n",
              "    }\n",
              "\n",
              "    .colab-df-convert {\n",
              "      background-color: #E8F0FE;\n",
              "      border: none;\n",
              "      border-radius: 50%;\n",
              "      cursor: pointer;\n",
              "      display: none;\n",
              "      fill: #1967D2;\n",
              "      height: 32px;\n",
              "      padding: 0 0 0 0;\n",
              "      width: 32px;\n",
              "    }\n",
              "\n",
              "    .colab-df-convert:hover {\n",
              "      background-color: #E2EBFA;\n",
              "      box-shadow: 0px 1px 2px rgba(60, 64, 67, 0.3), 0px 1px 3px 1px rgba(60, 64, 67, 0.15);\n",
              "      fill: #174EA6;\n",
              "    }\n",
              "\n",
              "    [theme=dark] .colab-df-convert {\n",
              "      background-color: #3B4455;\n",
              "      fill: #D2E3FC;\n",
              "    }\n",
              "\n",
              "    [theme=dark] .colab-df-convert:hover {\n",
              "      background-color: #434B5C;\n",
              "      box-shadow: 0px 1px 3px 1px rgba(0, 0, 0, 0.15);\n",
              "      filter: drop-shadow(0px 1px 2px rgba(0, 0, 0, 0.3));\n",
              "      fill: #FFFFFF;\n",
              "    }\n",
              "  </style>\n",
              "\n",
              "      <script>\n",
              "        const buttonEl =\n",
              "          document.querySelector('#df-9a04e7fd-da9b-40b1-a56d-13736486d7e0 button.colab-df-convert');\n",
              "        buttonEl.style.display =\n",
              "          google.colab.kernel.accessAllowed ? 'block' : 'none';\n",
              "\n",
              "        async function convertToInteractive(key) {\n",
              "          const element = document.querySelector('#df-9a04e7fd-da9b-40b1-a56d-13736486d7e0');\n",
              "          const dataTable =\n",
              "            await google.colab.kernel.invokeFunction('convertToInteractive',\n",
              "                                                     [key], {});\n",
              "          if (!dataTable) return;\n",
              "\n",
              "          const docLinkHtml = 'Like what you see? Visit the ' +\n",
              "            '<a target=\"_blank\" href=https://colab.research.google.com/notebooks/data_table.ipynb>data table notebook</a>'\n",
              "            + ' to learn more about interactive tables.';\n",
              "          element.innerHTML = '';\n",
              "          dataTable['output_type'] = 'display_data';\n",
              "          await google.colab.output.renderOutput(dataTable, element);\n",
              "          const docLink = document.createElement('div');\n",
              "          docLink.innerHTML = docLinkHtml;\n",
              "          element.appendChild(docLink);\n",
              "        }\n",
              "      </script>\n",
              "    </div>\n",
              "  </div>\n",
              "  "
            ]
          },
          "metadata": {},
          "execution_count": 53
        }
      ]
    },
    {
      "cell_type": "code",
      "source": [
        "forex_data.head()"
      ],
      "metadata": {
        "colab": {
          "base_uri": "https://localhost:8080/",
          "height": 369
        },
        "id": "2rNH-c1I4Sud",
        "outputId": "5f1e050f-ea86-45ae-b050-0a49a2fda05b"
      },
      "execution_count": null,
      "outputs": [
        {
          "output_type": "execute_result",
          "data": {
            "text/plain": [
              "         Date         EUR                   JPY                 BGN  \\\n",
              "0       #date  #value+eur            #value+jpy          #value+bgn   \n",
              "1  2022-05-20      1.0577  0.007815132259494607  0.5408017179670723   \n",
              "2  2022-05-19      1.0525  0.007827606723189051  0.5381429594028019   \n",
              "3  2022-05-18      1.0523  0.007751178550383029  0.5380406994580224   \n",
              "4  2022-05-17      1.0541  0.007732541079812207   0.538961038961039   \n",
              "\n",
              "                    CZK                  DKK                 GBP  \\\n",
              "0            #value+czk           #value+dkk          #value+gbp   \n",
              "1   0.04287393595460073   0.1421181339352897  1.2469936335769867   \n",
              "2   0.04261133603238867  0.14142133480241323  1.2422103672929845   \n",
              "3    0.0426948513003611  0.14140206130154934  1.2428250856265501   \n",
              "4  0.042655390093881515  0.14165345230736154  1.2489336492890997   \n",
              "\n",
              "                     HUF                  PLN                  RON  ...  \\\n",
              "0             #value+huf           #value+pln           #value+ron  ...   \n",
              "1    0.00276212362572794  0.22812466300010786   0.2137760979849223  ...   \n",
              "2   0.002727885338102273   0.2267195140339918  0.21273800379997573  ...   \n",
              "3   0.002748380693689929   0.2265788170445492   0.2127018777919269  ...   \n",
              "4  0.0027287082578307015  0.22674668731715714  0.21304418125227376  ...   \n",
              "\n",
              "                   ILS                   INR                    KRW  \\\n",
              "0           #value+ils            #value+inr             #value+krw   \n",
              "1    0.299377299745259  0.012873394781266699  0.0007889868564352744   \n",
              "2   0.2954551834488954  0.012880683869467578  0.0007835707000394576   \n",
              "3  0.29844015882019287  0.012888646649233577  0.0007895645127404784   \n",
              "4  0.29787775171673214  0.012909744462747164  0.0007903813565676409   \n",
              "\n",
              "                   MXN                  MYR                 NZD  \\\n",
              "0           #value+mxn           #value+myr          #value+nzd   \n",
              "1  0.05029146894643248  0.22784455646029902  0.6403317592928927   \n",
              "2  0.05010878724832534  0.22701291978517352  0.6359132378708235   \n",
              "3  0.05030018546490507  0.22750464824663813  0.6359076625574087   \n",
              "4  0.05013006900553091  0.22810586224059207   0.636495380713725   \n",
              "\n",
              "                    PHP                 SGD                   THB  \\\n",
              "0            #value+php          #value+sgd            #value+thb   \n",
              "1   0.01916782950653305  0.7250479846449136  0.029150589791643703   \n",
              "2   0.01908777656873413  0.7220773874862788  0.028960184904933548   \n",
              "3  0.019105978902264103  0.7208521715303466  0.028910134893815765   \n",
              "4  0.019117833759544407  0.7225306737953252   0.02898985176425291   \n",
              "\n",
              "                   ZAR  \n",
              "0           #value+zar  \n",
              "1  0.06328568607858506  \n",
              "2  0.06253156284347801  \n",
              "3  0.06289409669302445  \n",
              "4  0.06258014723343623  \n",
              "\n",
              "[5 rows x 34 columns]"
            ],
            "text/html": [
              "\n",
              "  <div id=\"df-df29f20f-43c6-437f-9aaa-056fa208db0c\">\n",
              "    <div class=\"colab-df-container\">\n",
              "      <div>\n",
              "<style scoped>\n",
              "    .dataframe tbody tr th:only-of-type {\n",
              "        vertical-align: middle;\n",
              "    }\n",
              "\n",
              "    .dataframe tbody tr th {\n",
              "        vertical-align: top;\n",
              "    }\n",
              "\n",
              "    .dataframe thead th {\n",
              "        text-align: right;\n",
              "    }\n",
              "</style>\n",
              "<table border=\"1\" class=\"dataframe\">\n",
              "  <thead>\n",
              "    <tr style=\"text-align: right;\">\n",
              "      <th></th>\n",
              "      <th>Date</th>\n",
              "      <th>EUR</th>\n",
              "      <th>JPY</th>\n",
              "      <th>BGN</th>\n",
              "      <th>CZK</th>\n",
              "      <th>DKK</th>\n",
              "      <th>GBP</th>\n",
              "      <th>HUF</th>\n",
              "      <th>PLN</th>\n",
              "      <th>RON</th>\n",
              "      <th>...</th>\n",
              "      <th>ILS</th>\n",
              "      <th>INR</th>\n",
              "      <th>KRW</th>\n",
              "      <th>MXN</th>\n",
              "      <th>MYR</th>\n",
              "      <th>NZD</th>\n",
              "      <th>PHP</th>\n",
              "      <th>SGD</th>\n",
              "      <th>THB</th>\n",
              "      <th>ZAR</th>\n",
              "    </tr>\n",
              "  </thead>\n",
              "  <tbody>\n",
              "    <tr>\n",
              "      <th>0</th>\n",
              "      <td>#date</td>\n",
              "      <td>#value+eur</td>\n",
              "      <td>#value+jpy</td>\n",
              "      <td>#value+bgn</td>\n",
              "      <td>#value+czk</td>\n",
              "      <td>#value+dkk</td>\n",
              "      <td>#value+gbp</td>\n",
              "      <td>#value+huf</td>\n",
              "      <td>#value+pln</td>\n",
              "      <td>#value+ron</td>\n",
              "      <td>...</td>\n",
              "      <td>#value+ils</td>\n",
              "      <td>#value+inr</td>\n",
              "      <td>#value+krw</td>\n",
              "      <td>#value+mxn</td>\n",
              "      <td>#value+myr</td>\n",
              "      <td>#value+nzd</td>\n",
              "      <td>#value+php</td>\n",
              "      <td>#value+sgd</td>\n",
              "      <td>#value+thb</td>\n",
              "      <td>#value+zar</td>\n",
              "    </tr>\n",
              "    <tr>\n",
              "      <th>1</th>\n",
              "      <td>2022-05-20</td>\n",
              "      <td>1.0577</td>\n",
              "      <td>0.007815132259494607</td>\n",
              "      <td>0.5408017179670723</td>\n",
              "      <td>0.04287393595460073</td>\n",
              "      <td>0.1421181339352897</td>\n",
              "      <td>1.2469936335769867</td>\n",
              "      <td>0.00276212362572794</td>\n",
              "      <td>0.22812466300010786</td>\n",
              "      <td>0.2137760979849223</td>\n",
              "      <td>...</td>\n",
              "      <td>0.299377299745259</td>\n",
              "      <td>0.012873394781266699</td>\n",
              "      <td>0.0007889868564352744</td>\n",
              "      <td>0.05029146894643248</td>\n",
              "      <td>0.22784455646029902</td>\n",
              "      <td>0.6403317592928927</td>\n",
              "      <td>0.01916782950653305</td>\n",
              "      <td>0.7250479846449136</td>\n",
              "      <td>0.029150589791643703</td>\n",
              "      <td>0.06328568607858506</td>\n",
              "    </tr>\n",
              "    <tr>\n",
              "      <th>2</th>\n",
              "      <td>2022-05-19</td>\n",
              "      <td>1.0525</td>\n",
              "      <td>0.007827606723189051</td>\n",
              "      <td>0.5381429594028019</td>\n",
              "      <td>0.04261133603238867</td>\n",
              "      <td>0.14142133480241323</td>\n",
              "      <td>1.2422103672929845</td>\n",
              "      <td>0.002727885338102273</td>\n",
              "      <td>0.2267195140339918</td>\n",
              "      <td>0.21273800379997573</td>\n",
              "      <td>...</td>\n",
              "      <td>0.2954551834488954</td>\n",
              "      <td>0.012880683869467578</td>\n",
              "      <td>0.0007835707000394576</td>\n",
              "      <td>0.05010878724832534</td>\n",
              "      <td>0.22701291978517352</td>\n",
              "      <td>0.6359132378708235</td>\n",
              "      <td>0.01908777656873413</td>\n",
              "      <td>0.7220773874862788</td>\n",
              "      <td>0.028960184904933548</td>\n",
              "      <td>0.06253156284347801</td>\n",
              "    </tr>\n",
              "    <tr>\n",
              "      <th>3</th>\n",
              "      <td>2022-05-18</td>\n",
              "      <td>1.0523</td>\n",
              "      <td>0.007751178550383029</td>\n",
              "      <td>0.5380406994580224</td>\n",
              "      <td>0.0426948513003611</td>\n",
              "      <td>0.14140206130154934</td>\n",
              "      <td>1.2428250856265501</td>\n",
              "      <td>0.002748380693689929</td>\n",
              "      <td>0.2265788170445492</td>\n",
              "      <td>0.2127018777919269</td>\n",
              "      <td>...</td>\n",
              "      <td>0.29844015882019287</td>\n",
              "      <td>0.012888646649233577</td>\n",
              "      <td>0.0007895645127404784</td>\n",
              "      <td>0.05030018546490507</td>\n",
              "      <td>0.22750464824663813</td>\n",
              "      <td>0.6359076625574087</td>\n",
              "      <td>0.019105978902264103</td>\n",
              "      <td>0.7208521715303466</td>\n",
              "      <td>0.028910134893815765</td>\n",
              "      <td>0.06289409669302445</td>\n",
              "    </tr>\n",
              "    <tr>\n",
              "      <th>4</th>\n",
              "      <td>2022-05-17</td>\n",
              "      <td>1.0541</td>\n",
              "      <td>0.007732541079812207</td>\n",
              "      <td>0.538961038961039</td>\n",
              "      <td>0.042655390093881515</td>\n",
              "      <td>0.14165345230736154</td>\n",
              "      <td>1.2489336492890997</td>\n",
              "      <td>0.0027287082578307015</td>\n",
              "      <td>0.22674668731715714</td>\n",
              "      <td>0.21304418125227376</td>\n",
              "      <td>...</td>\n",
              "      <td>0.29787775171673214</td>\n",
              "      <td>0.012909744462747164</td>\n",
              "      <td>0.0007903813565676409</td>\n",
              "      <td>0.05013006900553091</td>\n",
              "      <td>0.22810586224059207</td>\n",
              "      <td>0.636495380713725</td>\n",
              "      <td>0.019117833759544407</td>\n",
              "      <td>0.7225306737953252</td>\n",
              "      <td>0.02898985176425291</td>\n",
              "      <td>0.06258014723343623</td>\n",
              "    </tr>\n",
              "  </tbody>\n",
              "</table>\n",
              "<p>5 rows × 34 columns</p>\n",
              "</div>\n",
              "      <button class=\"colab-df-convert\" onclick=\"convertToInteractive('df-df29f20f-43c6-437f-9aaa-056fa208db0c')\"\n",
              "              title=\"Convert this dataframe to an interactive table.\"\n",
              "              style=\"display:none;\">\n",
              "        \n",
              "  <svg xmlns=\"http://www.w3.org/2000/svg\" height=\"24px\"viewBox=\"0 0 24 24\"\n",
              "       width=\"24px\">\n",
              "    <path d=\"M0 0h24v24H0V0z\" fill=\"none\"/>\n",
              "    <path d=\"M18.56 5.44l.94 2.06.94-2.06 2.06-.94-2.06-.94-.94-2.06-.94 2.06-2.06.94zm-11 1L8.5 8.5l.94-2.06 2.06-.94-2.06-.94L8.5 2.5l-.94 2.06-2.06.94zm10 10l.94 2.06.94-2.06 2.06-.94-2.06-.94-.94-2.06-.94 2.06-2.06.94z\"/><path d=\"M17.41 7.96l-1.37-1.37c-.4-.4-.92-.59-1.43-.59-.52 0-1.04.2-1.43.59L10.3 9.45l-7.72 7.72c-.78.78-.78 2.05 0 2.83L4 21.41c.39.39.9.59 1.41.59.51 0 1.02-.2 1.41-.59l7.78-7.78 2.81-2.81c.8-.78.8-2.07 0-2.86zM5.41 20L4 18.59l7.72-7.72 1.47 1.35L5.41 20z\"/>\n",
              "  </svg>\n",
              "      </button>\n",
              "      \n",
              "  <style>\n",
              "    .colab-df-container {\n",
              "      display:flex;\n",
              "      flex-wrap:wrap;\n",
              "      gap: 12px;\n",
              "    }\n",
              "\n",
              "    .colab-df-convert {\n",
              "      background-color: #E8F0FE;\n",
              "      border: none;\n",
              "      border-radius: 50%;\n",
              "      cursor: pointer;\n",
              "      display: none;\n",
              "      fill: #1967D2;\n",
              "      height: 32px;\n",
              "      padding: 0 0 0 0;\n",
              "      width: 32px;\n",
              "    }\n",
              "\n",
              "    .colab-df-convert:hover {\n",
              "      background-color: #E2EBFA;\n",
              "      box-shadow: 0px 1px 2px rgba(60, 64, 67, 0.3), 0px 1px 3px 1px rgba(60, 64, 67, 0.15);\n",
              "      fill: #174EA6;\n",
              "    }\n",
              "\n",
              "    [theme=dark] .colab-df-convert {\n",
              "      background-color: #3B4455;\n",
              "      fill: #D2E3FC;\n",
              "    }\n",
              "\n",
              "    [theme=dark] .colab-df-convert:hover {\n",
              "      background-color: #434B5C;\n",
              "      box-shadow: 0px 1px 3px 1px rgba(0, 0, 0, 0.15);\n",
              "      filter: drop-shadow(0px 1px 2px rgba(0, 0, 0, 0.3));\n",
              "      fill: #FFFFFF;\n",
              "    }\n",
              "  </style>\n",
              "\n",
              "      <script>\n",
              "        const buttonEl =\n",
              "          document.querySelector('#df-df29f20f-43c6-437f-9aaa-056fa208db0c button.colab-df-convert');\n",
              "        buttonEl.style.display =\n",
              "          google.colab.kernel.accessAllowed ? 'block' : 'none';\n",
              "\n",
              "        async function convertToInteractive(key) {\n",
              "          const element = document.querySelector('#df-df29f20f-43c6-437f-9aaa-056fa208db0c');\n",
              "          const dataTable =\n",
              "            await google.colab.kernel.invokeFunction('convertToInteractive',\n",
              "                                                     [key], {});\n",
              "          if (!dataTable) return;\n",
              "\n",
              "          const docLinkHtml = 'Like what you see? Visit the ' +\n",
              "            '<a target=\"_blank\" href=https://colab.research.google.com/notebooks/data_table.ipynb>data table notebook</a>'\n",
              "            + ' to learn more about interactive tables.';\n",
              "          element.innerHTML = '';\n",
              "          dataTable['output_type'] = 'display_data';\n",
              "          await google.colab.output.renderOutput(dataTable, element);\n",
              "          const docLink = document.createElement('div');\n",
              "          docLink.innerHTML = docLinkHtml;\n",
              "          element.appendChild(docLink);\n",
              "        }\n",
              "      </script>\n",
              "    </div>\n",
              "  </div>\n",
              "  "
            ]
          },
          "metadata": {},
          "execution_count": 35
        }
      ]
    },
    {
      "cell_type": "code",
      "source": [
        "forex_data =  forex_data.drop(0)\n"
      ],
      "metadata": {
        "id": "CmU8Yg-uAxGf"
      },
      "execution_count": null,
      "outputs": []
    },
    {
      "cell_type": "code",
      "source": [
        "forex_data.head()"
      ],
      "metadata": {
        "colab": {
          "base_uri": "https://localhost:8080/",
          "height": 386
        },
        "id": "Bz30MC-iBElO",
        "outputId": "3b54cd5d-e7f0-4366-91b4-03539622c339"
      },
      "execution_count": null,
      "outputs": [
        {
          "output_type": "execute_result",
          "data": {
            "text/plain": [
              "         Date     EUR                   JPY                 BGN  \\\n",
              "1  2022-05-20  1.0577  0.007815132259494607  0.5408017179670723   \n",
              "2  2022-05-19  1.0525  0.007827606723189051  0.5381429594028019   \n",
              "3  2022-05-18  1.0523  0.007751178550383029  0.5380406994580224   \n",
              "4  2022-05-17  1.0541  0.007732541079812207   0.538961038961039   \n",
              "5  2022-05-16  1.0422  0.007719428190504408   0.532876572246651   \n",
              "\n",
              "                    CZK                  DKK                 GBP  \\\n",
              "1   0.04287393595460073   0.1421181339352897  1.2469936335769867   \n",
              "2   0.04261133603238867  0.14142133480241323  1.2422103672929845   \n",
              "3    0.0426948513003611  0.14140206130154934  1.2428250856265501   \n",
              "4  0.042655390093881515  0.14165345230736154  1.2489336492890997   \n",
              "5  0.042177256171590446   0.1400467628799484  1.2254688694220706   \n",
              "\n",
              "                     HUF                  PLN                  RON  ...  \\\n",
              "1    0.00276212362572794  0.22812466300010786   0.2137760979849223  ...   \n",
              "2   0.002727885338102273   0.2267195140339918  0.21273800379997573  ...   \n",
              "3   0.002748380693689929   0.2265788170445492   0.2127018777919269  ...   \n",
              "4  0.0027287082578307015  0.22674668731715714  0.21304418125227376  ...   \n",
              "5  0.0027010496306854996  0.22328869844670593   0.2106773939234672  ...   \n",
              "\n",
              "                   ILS                   INR                    KRW  \\\n",
              "1    0.299377299745259  0.012873394781266699  0.0007889868564352744   \n",
              "2   0.2954551834488954  0.012880683869467578  0.0007835707000394576   \n",
              "3  0.29844015882019287  0.012888646649233577  0.0007895645127404784   \n",
              "4  0.29787775171673214  0.012909744462747164  0.0007903813565676409   \n",
              "5   0.2937926368607994  0.012853812853812853  0.0007789819866955677   \n",
              "\n",
              "                   MXN                  MYR                 NZD  \\\n",
              "1  0.05029146894643248  0.22784455646029902  0.6403317592928927   \n",
              "2  0.05010878724832534  0.22701291978517352  0.6359132378708235   \n",
              "3  0.05030018546490507  0.22750464824663813  0.6359076625574087   \n",
              "4  0.05013006900553091  0.22810586224059207   0.636495380713725   \n",
              "5  0.04978884408858993  0.22737586176804261  0.6277935064152762   \n",
              "\n",
              "                    PHP                 SGD                   THB  \\\n",
              "1   0.01916782950653305  0.7250479846449136  0.029150589791643703   \n",
              "2   0.01908777656873413  0.7220773874862788  0.028960184904933548   \n",
              "3  0.019105978902264103  0.7208521715303466  0.028910134893815765   \n",
              "4  0.019117833759544407  0.7225306737953252   0.02898985176425291   \n",
              "5  0.019051275020564848  0.7172252425848187  0.028731322710481337   \n",
              "\n",
              "                   ZAR  \n",
              "1  0.06328568607858506  \n",
              "2  0.06253156284347801  \n",
              "3  0.06289409669302445  \n",
              "4  0.06258014723343623  \n",
              "5  0.06159756493986229  \n",
              "\n",
              "[5 rows x 34 columns]"
            ],
            "text/html": [
              "\n",
              "  <div id=\"df-42ff8228-926a-4edb-a87d-b8a7b9a3cd70\">\n",
              "    <div class=\"colab-df-container\">\n",
              "      <div>\n",
              "<style scoped>\n",
              "    .dataframe tbody tr th:only-of-type {\n",
              "        vertical-align: middle;\n",
              "    }\n",
              "\n",
              "    .dataframe tbody tr th {\n",
              "        vertical-align: top;\n",
              "    }\n",
              "\n",
              "    .dataframe thead th {\n",
              "        text-align: right;\n",
              "    }\n",
              "</style>\n",
              "<table border=\"1\" class=\"dataframe\">\n",
              "  <thead>\n",
              "    <tr style=\"text-align: right;\">\n",
              "      <th></th>\n",
              "      <th>Date</th>\n",
              "      <th>EUR</th>\n",
              "      <th>JPY</th>\n",
              "      <th>BGN</th>\n",
              "      <th>CZK</th>\n",
              "      <th>DKK</th>\n",
              "      <th>GBP</th>\n",
              "      <th>HUF</th>\n",
              "      <th>PLN</th>\n",
              "      <th>RON</th>\n",
              "      <th>...</th>\n",
              "      <th>ILS</th>\n",
              "      <th>INR</th>\n",
              "      <th>KRW</th>\n",
              "      <th>MXN</th>\n",
              "      <th>MYR</th>\n",
              "      <th>NZD</th>\n",
              "      <th>PHP</th>\n",
              "      <th>SGD</th>\n",
              "      <th>THB</th>\n",
              "      <th>ZAR</th>\n",
              "    </tr>\n",
              "  </thead>\n",
              "  <tbody>\n",
              "    <tr>\n",
              "      <th>1</th>\n",
              "      <td>2022-05-20</td>\n",
              "      <td>1.0577</td>\n",
              "      <td>0.007815132259494607</td>\n",
              "      <td>0.5408017179670723</td>\n",
              "      <td>0.04287393595460073</td>\n",
              "      <td>0.1421181339352897</td>\n",
              "      <td>1.2469936335769867</td>\n",
              "      <td>0.00276212362572794</td>\n",
              "      <td>0.22812466300010786</td>\n",
              "      <td>0.2137760979849223</td>\n",
              "      <td>...</td>\n",
              "      <td>0.299377299745259</td>\n",
              "      <td>0.012873394781266699</td>\n",
              "      <td>0.0007889868564352744</td>\n",
              "      <td>0.05029146894643248</td>\n",
              "      <td>0.22784455646029902</td>\n",
              "      <td>0.6403317592928927</td>\n",
              "      <td>0.01916782950653305</td>\n",
              "      <td>0.7250479846449136</td>\n",
              "      <td>0.029150589791643703</td>\n",
              "      <td>0.06328568607858506</td>\n",
              "    </tr>\n",
              "    <tr>\n",
              "      <th>2</th>\n",
              "      <td>2022-05-19</td>\n",
              "      <td>1.0525</td>\n",
              "      <td>0.007827606723189051</td>\n",
              "      <td>0.5381429594028019</td>\n",
              "      <td>0.04261133603238867</td>\n",
              "      <td>0.14142133480241323</td>\n",
              "      <td>1.2422103672929845</td>\n",
              "      <td>0.002727885338102273</td>\n",
              "      <td>0.2267195140339918</td>\n",
              "      <td>0.21273800379997573</td>\n",
              "      <td>...</td>\n",
              "      <td>0.2954551834488954</td>\n",
              "      <td>0.012880683869467578</td>\n",
              "      <td>0.0007835707000394576</td>\n",
              "      <td>0.05010878724832534</td>\n",
              "      <td>0.22701291978517352</td>\n",
              "      <td>0.6359132378708235</td>\n",
              "      <td>0.01908777656873413</td>\n",
              "      <td>0.7220773874862788</td>\n",
              "      <td>0.028960184904933548</td>\n",
              "      <td>0.06253156284347801</td>\n",
              "    </tr>\n",
              "    <tr>\n",
              "      <th>3</th>\n",
              "      <td>2022-05-18</td>\n",
              "      <td>1.0523</td>\n",
              "      <td>0.007751178550383029</td>\n",
              "      <td>0.5380406994580224</td>\n",
              "      <td>0.0426948513003611</td>\n",
              "      <td>0.14140206130154934</td>\n",
              "      <td>1.2428250856265501</td>\n",
              "      <td>0.002748380693689929</td>\n",
              "      <td>0.2265788170445492</td>\n",
              "      <td>0.2127018777919269</td>\n",
              "      <td>...</td>\n",
              "      <td>0.29844015882019287</td>\n",
              "      <td>0.012888646649233577</td>\n",
              "      <td>0.0007895645127404784</td>\n",
              "      <td>0.05030018546490507</td>\n",
              "      <td>0.22750464824663813</td>\n",
              "      <td>0.6359076625574087</td>\n",
              "      <td>0.019105978902264103</td>\n",
              "      <td>0.7208521715303466</td>\n",
              "      <td>0.028910134893815765</td>\n",
              "      <td>0.06289409669302445</td>\n",
              "    </tr>\n",
              "    <tr>\n",
              "      <th>4</th>\n",
              "      <td>2022-05-17</td>\n",
              "      <td>1.0541</td>\n",
              "      <td>0.007732541079812207</td>\n",
              "      <td>0.538961038961039</td>\n",
              "      <td>0.042655390093881515</td>\n",
              "      <td>0.14165345230736154</td>\n",
              "      <td>1.2489336492890997</td>\n",
              "      <td>0.0027287082578307015</td>\n",
              "      <td>0.22674668731715714</td>\n",
              "      <td>0.21304418125227376</td>\n",
              "      <td>...</td>\n",
              "      <td>0.29787775171673214</td>\n",
              "      <td>0.012909744462747164</td>\n",
              "      <td>0.0007903813565676409</td>\n",
              "      <td>0.05013006900553091</td>\n",
              "      <td>0.22810586224059207</td>\n",
              "      <td>0.636495380713725</td>\n",
              "      <td>0.019117833759544407</td>\n",
              "      <td>0.7225306737953252</td>\n",
              "      <td>0.02898985176425291</td>\n",
              "      <td>0.06258014723343623</td>\n",
              "    </tr>\n",
              "    <tr>\n",
              "      <th>5</th>\n",
              "      <td>2022-05-16</td>\n",
              "      <td>1.0422</td>\n",
              "      <td>0.007719428190504408</td>\n",
              "      <td>0.532876572246651</td>\n",
              "      <td>0.042177256171590446</td>\n",
              "      <td>0.1400467628799484</td>\n",
              "      <td>1.2254688694220706</td>\n",
              "      <td>0.0027010496306854996</td>\n",
              "      <td>0.22328869844670593</td>\n",
              "      <td>0.2106773939234672</td>\n",
              "      <td>...</td>\n",
              "      <td>0.2937926368607994</td>\n",
              "      <td>0.012853812853812853</td>\n",
              "      <td>0.0007789819866955677</td>\n",
              "      <td>0.04978884408858993</td>\n",
              "      <td>0.22737586176804261</td>\n",
              "      <td>0.6277935064152762</td>\n",
              "      <td>0.019051275020564848</td>\n",
              "      <td>0.7172252425848187</td>\n",
              "      <td>0.028731322710481337</td>\n",
              "      <td>0.06159756493986229</td>\n",
              "    </tr>\n",
              "  </tbody>\n",
              "</table>\n",
              "<p>5 rows × 34 columns</p>\n",
              "</div>\n",
              "      <button class=\"colab-df-convert\" onclick=\"convertToInteractive('df-42ff8228-926a-4edb-a87d-b8a7b9a3cd70')\"\n",
              "              title=\"Convert this dataframe to an interactive table.\"\n",
              "              style=\"display:none;\">\n",
              "        \n",
              "  <svg xmlns=\"http://www.w3.org/2000/svg\" height=\"24px\"viewBox=\"0 0 24 24\"\n",
              "       width=\"24px\">\n",
              "    <path d=\"M0 0h24v24H0V0z\" fill=\"none\"/>\n",
              "    <path d=\"M18.56 5.44l.94 2.06.94-2.06 2.06-.94-2.06-.94-.94-2.06-.94 2.06-2.06.94zm-11 1L8.5 8.5l.94-2.06 2.06-.94-2.06-.94L8.5 2.5l-.94 2.06-2.06.94zm10 10l.94 2.06.94-2.06 2.06-.94-2.06-.94-.94-2.06-.94 2.06-2.06.94z\"/><path d=\"M17.41 7.96l-1.37-1.37c-.4-.4-.92-.59-1.43-.59-.52 0-1.04.2-1.43.59L10.3 9.45l-7.72 7.72c-.78.78-.78 2.05 0 2.83L4 21.41c.39.39.9.59 1.41.59.51 0 1.02-.2 1.41-.59l7.78-7.78 2.81-2.81c.8-.78.8-2.07 0-2.86zM5.41 20L4 18.59l7.72-7.72 1.47 1.35L5.41 20z\"/>\n",
              "  </svg>\n",
              "      </button>\n",
              "      \n",
              "  <style>\n",
              "    .colab-df-container {\n",
              "      display:flex;\n",
              "      flex-wrap:wrap;\n",
              "      gap: 12px;\n",
              "    }\n",
              "\n",
              "    .colab-df-convert {\n",
              "      background-color: #E8F0FE;\n",
              "      border: none;\n",
              "      border-radius: 50%;\n",
              "      cursor: pointer;\n",
              "      display: none;\n",
              "      fill: #1967D2;\n",
              "      height: 32px;\n",
              "      padding: 0 0 0 0;\n",
              "      width: 32px;\n",
              "    }\n",
              "\n",
              "    .colab-df-convert:hover {\n",
              "      background-color: #E2EBFA;\n",
              "      box-shadow: 0px 1px 2px rgba(60, 64, 67, 0.3), 0px 1px 3px 1px rgba(60, 64, 67, 0.15);\n",
              "      fill: #174EA6;\n",
              "    }\n",
              "\n",
              "    [theme=dark] .colab-df-convert {\n",
              "      background-color: #3B4455;\n",
              "      fill: #D2E3FC;\n",
              "    }\n",
              "\n",
              "    [theme=dark] .colab-df-convert:hover {\n",
              "      background-color: #434B5C;\n",
              "      box-shadow: 0px 1px 3px 1px rgba(0, 0, 0, 0.15);\n",
              "      filter: drop-shadow(0px 1px 2px rgba(0, 0, 0, 0.3));\n",
              "      fill: #FFFFFF;\n",
              "    }\n",
              "  </style>\n",
              "\n",
              "      <script>\n",
              "        const buttonEl =\n",
              "          document.querySelector('#df-42ff8228-926a-4edb-a87d-b8a7b9a3cd70 button.colab-df-convert');\n",
              "        buttonEl.style.display =\n",
              "          google.colab.kernel.accessAllowed ? 'block' : 'none';\n",
              "\n",
              "        async function convertToInteractive(key) {\n",
              "          const element = document.querySelector('#df-42ff8228-926a-4edb-a87d-b8a7b9a3cd70');\n",
              "          const dataTable =\n",
              "            await google.colab.kernel.invokeFunction('convertToInteractive',\n",
              "                                                     [key], {});\n",
              "          if (!dataTable) return;\n",
              "\n",
              "          const docLinkHtml = 'Like what you see? Visit the ' +\n",
              "            '<a target=\"_blank\" href=https://colab.research.google.com/notebooks/data_table.ipynb>data table notebook</a>'\n",
              "            + ' to learn more about interactive tables.';\n",
              "          element.innerHTML = '';\n",
              "          dataTable['output_type'] = 'display_data';\n",
              "          await google.colab.output.renderOutput(dataTable, element);\n",
              "          const docLink = document.createElement('div');\n",
              "          docLink.innerHTML = docLinkHtml;\n",
              "          element.appendChild(docLink);\n",
              "        }\n",
              "      </script>\n",
              "    </div>\n",
              "  </div>\n",
              "  "
            ]
          },
          "metadata": {},
          "execution_count": 55
        }
      ]
    },
    {
      "cell_type": "code",
      "source": [
        "plt.figure(figsize=(10,6))\n",
        "sns.displot(\n",
        "    data=forex_data.isna().melt(value_name=\"missing\"),\n",
        "    y=\"variable\",\n",
        "    hue=\"missing\",\n",
        "    multiple=\"fill\",\n",
        "    aspect=1.25\n",
        ")\n",
        "plt.savefig(\"visualizing_missing_data_with_barplot_Seaborn_distplot.png\", dpi=100)\n",
        "\n"
      ],
      "metadata": {
        "colab": {
          "base_uri": "https://localhost:8080/",
          "height": 386
        },
        "id": "yAK537fL46b7",
        "outputId": "14cdb39a-3b2c-4a73-cf23-c9a89cc2f06c"
      },
      "execution_count": null,
      "outputs": [
        {
          "output_type": "display_data",
          "data": {
            "text/plain": [
              "<Figure size 720x432 with 0 Axes>"
            ]
          },
          "metadata": {}
        },
        {
          "output_type": "display_data",
          "data": {
            "text/plain": [
              "<Figure size 511.25x360 with 1 Axes>"
            ],
            "image/png": "[encoded data removed]"
          },
          "metadata": {
            "needs_background": "light"
          }
        }
      ]
    },
    {
      "cell_type": "code",
      "source": [
        "#Dropping currecnys with missing values\n",
        "forex_data.drop(columns=['TRL'],inplace=True)\n",
        "forex_data.drop(columns=['ILS'],inplace=True)\n",
        "forex_data.drop(columns=['INR'],inplace=True)\n",
        "forex_data.drop(columns=['ISK'],inplace=True)\n",
        "forex_data.drop(columns=['BRL'],inplace=True)\n",
        "forex_data.drop(columns=['MXN'],inplace=True)\n"
      ],
      "metadata": {
        "id": "zcE9QdNY6IE8"
      },
      "execution_count": null,
      "outputs": []
    },
    {
      "cell_type": "code",
      "source": [
        ""
      ],
      "metadata": {
        "id": "Cgr_upsM8dNJ"
      },
      "execution_count": null,
      "outputs": []
    },
    {
      "cell_type": "code",
      "source": [
        "plt.figure(figsize=(10,6))\n",
        "sns.displot(\n",
        "    data=forex_data.isna().melt(value_name=\"missing\"),\n",
        "    y=\"variable\",\n",
        "    hue=\"missing\",\n",
        "    multiple=\"fill\",\n",
        "    aspect=1.25\n",
        ")\n",
        "plt.savefig(\"visualizing_missing_data_with_barplot_Seaborn_distplot.png\", dpi=100)"
      ],
      "metadata": {
        "colab": {
          "base_uri": "https://localhost:8080/",
          "height": 386
        },
        "id": "6vj1cEbd6ZT7",
        "outputId": "a863cf24-969d-4bf3-d614-04cf35ef3ce4"
      },
      "execution_count": null,
      "outputs": [
        {
          "output_type": "display_data",
          "data": {
            "text/plain": [
              "<Figure size 720x432 with 0 Axes>"
            ]
          },
          "metadata": {}
        },
        {
          "output_type": "display_data",
          "data": {
            "text/plain": [
              "<Figure size 511.25x360 with 1 Axes>"
            ],
            "image/png": "[encoded data removed]"
          },
          "metadata": {
            "needs_background": "light"
          }
        }
      ]
    },
    {
      "cell_type": "code",
      "source": [
        "forex_data.isnull().sum()"
      ],
      "metadata": {
        "colab": {
          "base_uri": "https://localhost:8080/"
        },
        "id": "MFAlILYc7apr",
        "outputId": "1c6f4420-cba9-4f8b-f7cd-fc1cf1bf3965"
      },
      "execution_count": null,
      "outputs": [
        {
          "output_type": "execute_result",
          "data": {
            "text/plain": [
              "Date       0\n",
              "EUR        0\n",
              "JPY        0\n",
              "BGN      398\n",
              "CZK        0\n",
              "DKK        0\n",
              "GBP        0\n",
              "HUF        0\n",
              "PLN        0\n",
              "RON     1664\n",
              "SEK        0\n",
              "CHF        0\n",
              "NOK        0\n",
              "HRK     1599\n",
              "RUB     1655\n",
              "TRY     1537\n",
              "AUD        0\n",
              "CAD        0\n",
              "CNY     1599\n",
              "HKD        0\n",
              "IDR     1599\n",
              "KRW        0\n",
              "MYR     1599\n",
              "NZD        0\n",
              "PHP     1599\n",
              "SGD        0\n",
              "THB     1599\n",
              "ZAR        0\n",
              "dtype: int64"
            ]
          },
          "metadata": {},
          "execution_count": 59
        }
      ]
    },
    {
      "cell_type": "code",
      "source": [
        "forex_data.describe()"
      ],
      "metadata": {
        "colab": {
          "base_uri": "https://localhost:8080/",
          "height": 285
        },
        "id": "IVDttstT8ePw",
        "outputId": "44e1aff0-7fe2-4553-b99e-95b7d10b7601"
      },
      "execution_count": null,
      "outputs": [
        {
          "output_type": "execute_result",
          "data": {
            "text/plain": [
              "              Date     EUR                   JPY                 BGN  \\\n",
              "count         5988    5988                  5988                5590   \n",
              "unique        5988    3609                  5983                3922   \n",
              "top     2022-05-20  1.2276  0.009709060094626085  0.5734226403517741   \n",
              "freq             1       9                     2                   8   \n",
              "\n",
              "                        CZK                  DKK                 GBP  \\\n",
              "count                  5988                 5988                5988   \n",
              "unique                 5977                 5967                5984   \n",
              "top     0.05059346607384497  0.16038192576654117  1.5630750038983314   \n",
              "freq                      2                    2                   2   \n",
              "\n",
              "                        HUF                  PLN                  RON  ...  \\\n",
              "count                  5988                 5988                 4324  ...   \n",
              "unique                 5988                 5988                 4322  ...   \n",
              "top     0.00276212362572794  0.22812466300010786  0.24944604021337713  ...   \n",
              "freq                      1                    1                    2  ...   \n",
              "\n",
              "                        CNY                  HKD                   IDR  \\\n",
              "count                  4389                 5988                  4389   \n",
              "unique                 4382                 5936                  4346   \n",
              "top     0.12082393625018795  0.12903225806451613  9.09090909090909e-05   \n",
              "freq                      2                   14                     5   \n",
              "\n",
              "                          KRW                  MYR                 NZD   PHP  \\\n",
              "count                    5988                 4389                5988  4389   \n",
              "unique                   5978                 4383                5986  4382   \n",
              "top     0.0007692307692307692  0.28567040393180776  0.5154549634700862  0.02   \n",
              "freq                        6                    2                   2     3   \n",
              "\n",
              "                       SGD                  THB                  ZAR  \n",
              "count                 5988                 4389                 5988  \n",
              "unique                5983                 4381                 5984  \n",
              "top     0.6260014197343068  0.03333333333333333  0.14285714285714288  \n",
              "freq                     2                    4                    2  \n",
              "\n",
              "[4 rows x 28 columns]"
            ],
            "text/html": [
              "\n",
              "  <div id=\"df-16ee70aa-84ae-485f-bb67-d86d4af892da\">\n",
              "    <div class=\"colab-df-container\">\n",
              "      <div>\n",
              "<style scoped>\n",
              "    .dataframe tbody tr th:only-of-type {\n",
              "        vertical-align: middle;\n",
              "    }\n",
              "\n",
              "    .dataframe tbody tr th {\n",
              "        vertical-align: top;\n",
              "    }\n",
              "\n",
              "    .dataframe thead th {\n",
              "        text-align: right;\n",
              "    }\n",
              "</style>\n",
              "<table border=\"1\" class=\"dataframe\">\n",
              "  <thead>\n",
              "    <tr style=\"text-align: right;\">\n",
              "      <th></th>\n",
              "      <th>Date</th>\n",
              "      <th>EUR</th>\n",
              "      <th>JPY</th>\n",
              "      <th>BGN</th>\n",
              "      <th>CZK</th>\n",
              "      <th>DKK</th>\n",
              "      <th>GBP</th>\n",
              "      <th>HUF</th>\n",
              "      <th>PLN</th>\n",
              "      <th>RON</th>\n",
              "      <th>...</th>\n",
              "      <th>CNY</th>\n",
              "      <th>HKD</th>\n",
              "      <th>IDR</th>\n",
              "      <th>KRW</th>\n",
              "      <th>MYR</th>\n",
              "      <th>NZD</th>\n",
              "      <th>PHP</th>\n",
              "      <th>SGD</th>\n",
              "      <th>THB</th>\n",
              "      <th>ZAR</th>\n",
              "    </tr>\n",
              "  </thead>\n",
              "  <tbody>\n",
              "    <tr>\n",
              "      <th>count</th>\n",
              "      <td>5988</td>\n",
              "      <td>5988</td>\n",
              "      <td>5988</td>\n",
              "      <td>5590</td>\n",
              "      <td>5988</td>\n",
              "      <td>5988</td>\n",
              "      <td>5988</td>\n",
              "      <td>5988</td>\n",
              "      <td>5988</td>\n",
              "      <td>4324</td>\n",
              "      <td>...</td>\n",
              "      <td>4389</td>\n",
              "      <td>5988</td>\n",
              "      <td>4389</td>\n",
              "      <td>5988</td>\n",
              "      <td>4389</td>\n",
              "      <td>5988</td>\n",
              "      <td>4389</td>\n",
              "      <td>5988</td>\n",
              "      <td>4389</td>\n",
              "      <td>5988</td>\n",
              "    </tr>\n",
              "    <tr>\n",
              "      <th>unique</th>\n",
              "      <td>5988</td>\n",
              "      <td>3609</td>\n",
              "      <td>5983</td>\n",
              "      <td>3922</td>\n",
              "      <td>5977</td>\n",
              "      <td>5967</td>\n",
              "      <td>5984</td>\n",
              "      <td>5988</td>\n",
              "      <td>5988</td>\n",
              "      <td>4322</td>\n",
              "      <td>...</td>\n",
              "      <td>4382</td>\n",
              "      <td>5936</td>\n",
              "      <td>4346</td>\n",
              "      <td>5978</td>\n",
              "      <td>4383</td>\n",
              "      <td>5986</td>\n",
              "      <td>4382</td>\n",
              "      <td>5983</td>\n",
              "      <td>4381</td>\n",
              "      <td>5984</td>\n",
              "    </tr>\n",
              "    <tr>\n",
              "      <th>top</th>\n",
              "      <td>2022-05-20</td>\n",
              "      <td>1.2276</td>\n",
              "      <td>0.009709060094626085</td>\n",
              "      <td>0.5734226403517741</td>\n",
              "      <td>0.05059346607384497</td>\n",
              "      <td>0.16038192576654117</td>\n",
              "      <td>1.5630750038983314</td>\n",
              "      <td>0.00276212362572794</td>\n",
              "      <td>0.22812466300010786</td>\n",
              "      <td>0.24944604021337713</td>\n",
              "      <td>...</td>\n",
              "      <td>0.12082393625018795</td>\n",
              "      <td>0.12903225806451613</td>\n",
              "      <td>9.09090909090909e-05</td>\n",
              "      <td>0.0007692307692307692</td>\n",
              "      <td>0.28567040393180776</td>\n",
              "      <td>0.5154549634700862</td>\n",
              "      <td>0.02</td>\n",
              "      <td>0.6260014197343068</td>\n",
              "      <td>0.03333333333333333</td>\n",
              "      <td>0.14285714285714288</td>\n",
              "    </tr>\n",
              "    <tr>\n",
              "      <th>freq</th>\n",
              "      <td>1</td>\n",
              "      <td>9</td>\n",
              "      <td>2</td>\n",
              "      <td>8</td>\n",
              "      <td>2</td>\n",
              "      <td>2</td>\n",
              "      <td>2</td>\n",
              "      <td>1</td>\n",
              "      <td>1</td>\n",
              "      <td>2</td>\n",
              "      <td>...</td>\n",
              "      <td>2</td>\n",
              "      <td>14</td>\n",
              "      <td>5</td>\n",
              "      <td>6</td>\n",
              "      <td>2</td>\n",
              "      <td>2</td>\n",
              "      <td>3</td>\n",
              "      <td>2</td>\n",
              "      <td>4</td>\n",
              "      <td>2</td>\n",
              "    </tr>\n",
              "  </tbody>\n",
              "</table>\n",
              "<p>4 rows × 28 columns</p>\n",
              "</div>\n",
              "      <button class=\"colab-df-convert\" onclick=\"convertToInteractive('df-16ee70aa-84ae-485f-bb67-d86d4af892da')\"\n",
              "              title=\"Convert this dataframe to an interactive table.\"\n",
              "              style=\"display:none;\">\n",
              "        \n",
              "  <svg xmlns=\"http://www.w3.org/2000/svg\" height=\"24px\"viewBox=\"0 0 24 24\"\n",
              "       width=\"24px\">\n",
              "    <path d=\"M0 0h24v24H0V0z\" fill=\"none\"/>\n",
              "    <path d=\"M18.56 5.44l.94 2.06.94-2.06 2.06-.94-2.06-.94-.94-2.06-.94 2.06-2.06.94zm-11 1L8.5 8.5l.94-2.06 2.06-.94-2.06-.94L8.5 2.5l-.94 2.06-2.06.94zm10 10l.94 2.06.94-2.06 2.06-.94-2.06-.94-.94-2.06-.94 2.06-2.06.94z\"/><path d=\"M17.41 7.96l-1.37-1.37c-.4-.4-.92-.59-1.43-.59-.52 0-1.04.2-1.43.59L10.3 9.45l-7.72 7.72c-.78.78-.78 2.05 0 2.83L4 21.41c.39.39.9.59 1.41.59.51 0 1.02-.2 1.41-.59l7.78-7.78 2.81-2.81c.8-.78.8-2.07 0-2.86zM5.41 20L4 18.59l7.72-7.72 1.47 1.35L5.41 20z\"/>\n",
              "  </svg>\n",
              "      </button>\n",
              "      \n",
              "  <style>\n",
              "    .colab-df-container {\n",
              "      display:flex;\n",
              "      flex-wrap:wrap;\n",
              "      gap: 12px;\n",
              "    }\n",
              "\n",
              "    .colab-df-convert {\n",
              "      background-color: #E8F0FE;\n",
              "      border: none;\n",
              "      border-radius: 50%;\n",
              "      cursor: pointer;\n",
              "      display: none;\n",
              "      fill: #1967D2;\n",
              "      height: 32px;\n",
              "      padding: 0 0 0 0;\n",
              "      width: 32px;\n",
              "    }\n",
              "\n",
              "    .colab-df-convert:hover {\n",
              "      background-color: #E2EBFA;\n",
              "      box-shadow: 0px 1px 2px rgba(60, 64, 67, 0.3), 0px 1px 3px 1px rgba(60, 64, 67, 0.15);\n",
              "      fill: #174EA6;\n",
              "    }\n",
              "\n",
              "    [theme=dark] .colab-df-convert {\n",
              "      background-color: #3B4455;\n",
              "      fill: #D2E3FC;\n",
              "    }\n",
              "\n",
              "    [theme=dark] .colab-df-convert:hover {\n",
              "      background-color: #434B5C;\n",
              "      box-shadow: 0px 1px 3px 1px rgba(0, 0, 0, 0.15);\n",
              "      filter: drop-shadow(0px 1px 2px rgba(0, 0, 0, 0.3));\n",
              "      fill: #FFFFFF;\n",
              "    }\n",
              "  </style>\n",
              "\n",
              "      <script>\n",
              "        const buttonEl =\n",
              "          document.querySelector('#df-16ee70aa-84ae-485f-bb67-d86d4af892da button.colab-df-convert');\n",
              "        buttonEl.style.display =\n",
              "          google.colab.kernel.accessAllowed ? 'block' : 'none';\n",
              "\n",
              "        async function convertToInteractive(key) {\n",
              "          const element = document.querySelector('#df-16ee70aa-84ae-485f-bb67-d86d4af892da');\n",
              "          const dataTable =\n",
              "            await google.colab.kernel.invokeFunction('convertToInteractive',\n",
              "                                                     [key], {});\n",
              "          if (!dataTable) return;\n",
              "\n",
              "          const docLinkHtml = 'Like what you see? Visit the ' +\n",
              "            '<a target=\"_blank\" href=https://colab.research.google.com/notebooks/data_table.ipynb>data table notebook</a>'\n",
              "            + ' to learn more about interactive tables.';\n",
              "          element.innerHTML = '';\n",
              "          dataTable['output_type'] = 'display_data';\n",
              "          await google.colab.output.renderOutput(dataTable, element);\n",
              "          const docLink = document.createElement('div');\n",
              "          docLink.innerHTML = docLinkHtml;\n",
              "          element.appendChild(docLink);\n",
              "        }\n",
              "      </script>\n",
              "    </div>\n",
              "  </div>\n",
              "  "
            ]
          },
          "metadata": {},
          "execution_count": 61
        }
      ]
    },
    {
      "cell_type": "code",
      "source": [
        "forex_data.BGN.describe()"
      ],
      "metadata": {
        "colab": {
          "base_uri": "https://localhost:8080/"
        },
        "id": "scoe6nn_9urf",
        "outputId": "619fa258-ba34-418d-ea80-d261af97e3b6"
      },
      "execution_count": null,
      "outputs": [
        {
          "output_type": "execute_result",
          "data": {
            "text/plain": [
              "count                   5591\n",
              "unique                  3923\n",
              "top       0.5734226403517741\n",
              "freq                       8\n",
              "Name: BGN, dtype: object"
            ]
          },
          "metadata": {},
          "execution_count": 43
        }
      ]
    },
    {
      "cell_type": "code",
      "source": [
        "forex_data.shape"
      ],
      "metadata": {
        "colab": {
          "base_uri": "https://localhost:8080/"
        },
        "id": "SSwgypHl-dsO",
        "outputId": "ab867504-54ea-421c-9447-2995df915b6d"
      },
      "execution_count": null,
      "outputs": [
        {
          "output_type": "execute_result",
          "data": {
            "text/plain": [
              "(5989, 28)"
            ]
          },
          "metadata": {},
          "execution_count": 44
        }
      ]
    },
    {
      "cell_type": "code",
      "source": [
        "forex_data.info()"
      ],
      "metadata": {
        "colab": {
          "base_uri": "https://localhost:8080/"
        },
        "id": "UT58Ijzp-ktd",
        "outputId": "86991051-190b-40ac-ef66-0deec2c790b3"
      },
      "execution_count": null,
      "outputs": [
        {
          "output_type": "stream",
          "name": "stdout",
          "text": [
            "<class 'pandas.core.frame.DataFrame'>\n",
            "Int64Index: 5988 entries, 1 to 5988\n",
            "Data columns (total 28 columns):\n",
            " #   Column  Non-Null Count  Dtype \n",
            "---  ------  --------------  ----- \n",
            " 0   Date    5988 non-null   object\n",
            " 1   EUR     5988 non-null   object\n",
            " 2   JPY     5988 non-null   object\n",
            " 3   BGN     5590 non-null   object\n",
            " 4   CZK     5988 non-null   object\n",
            " 5   DKK     5988 non-null   object\n",
            " 6   GBP     5988 non-null   object\n",
            " 7   HUF     5988 non-null   object\n",
            " 8   PLN     5988 non-null   object\n",
            " 9   RON     4324 non-null   object\n",
            " 10  SEK     5988 non-null   object\n",
            " 11  CHF     5988 non-null   object\n",
            " 12  NOK     5988 non-null   object\n",
            " 13  HRK     4389 non-null   object\n",
            " 14  RUB     4333 non-null   object\n",
            " 15  TRY     4451 non-null   object\n",
            " 16  AUD     5988 non-null   object\n",
            " 17  CAD     5988 non-null   object\n",
            " 18  CNY     4389 non-null   object\n",
            " 19  HKD     5988 non-null   object\n",
            " 20  IDR     4389 non-null   object\n",
            " 21  KRW     5988 non-null   object\n",
            " 22  MYR     4389 non-null   object\n",
            " 23  NZD     5988 non-null   object\n",
            " 24  PHP     4389 non-null   object\n",
            " 25  SGD     5988 non-null   object\n",
            " 26  THB     4389 non-null   object\n",
            " 27  ZAR     5988 non-null   object\n",
            "dtypes: object(28)\n",
            "memory usage: 1.3+ MB\n"
          ]
        }
      ]
    },
    {
      "cell_type": "code",
      "source": [
        "#Conver dictornary\n",
        "\n",
        "convert_dict = {\n",
        "     'EUR':float,\n",
        "     'JPY':float,\n",
        "     'BGN':float,\n",
        "     'CZK':float,\n",
        "     'DKK':float,\n",
        "     'GBP':float,\n",
        "     'HUF':float,\n",
        "     'PLN':float,\n",
        "     'RON':float,\n",
        "     'SEK':float,\n",
        "     'CHF':float,\n",
        "      'NOK':float,\n",
        "     'HRK':float,\n",
        "     'RUB':float,\n",
        "     'TRY':float,\n",
        "     'AUD':float,\n",
        "     'CAD':float,\n",
        "     'CNY':float,\n",
        "      'HKD':float,\n",
        "     'IDR':float,\n",
        "     'KRW':float,\n",
        "     'MYR':float,\n",
        "     'NZD':float,\n",
        "     'PHP':float,  \n",
        "     'SGD':float,\n",
        "     'THB':float,\n",
        "     'ZAR':float,\n",
        "    \n",
        "}"
      ],
      "metadata": {
        "id": "KmW6vv2L_Xhe"
      },
      "execution_count": null,
      "outputs": []
    },
    {
      "cell_type": "code",
      "source": [
        "forex_data = forex_data.astype(convert_dict)"
      ],
      "metadata": {
        "id": "dAZ7x8n2AGCI"
      },
      "execution_count": null,
      "outputs": []
    },
    {
      "cell_type": "code",
      "source": [
        "forex_data.info()"
      ],
      "metadata": {
        "id": "NCG8UnIUBo8d",
        "outputId": "81f2cfb8-797a-43fb-9742-d4ab40b1f359",
        "colab": {
          "base_uri": "https://localhost:8080/"
        }
      },
      "execution_count": null,
      "outputs": [
        {
          "output_type": "stream",
          "name": "stdout",
          "text": [
            "<class 'pandas.core.frame.DataFrame'>\n",
            "Int64Index: 5988 entries, 1 to 5988\n",
            "Data columns (total 28 columns):\n",
            " #   Column  Non-Null Count  Dtype  \n",
            "---  ------  --------------  -----  \n",
            " 0   Date    5988 non-null   object \n",
            " 1   EUR     5988 non-null   float64\n",
            " 2   JPY     5988 non-null   float64\n",
            " 3   BGN     5590 non-null   float64\n",
            " 4   CZK     5988 non-null   float64\n",
            " 5   DKK     5988 non-null   float64\n",
            " 6   GBP     5988 non-null   float64\n",
            " 7   HUF     5988 non-null   float64\n",
            " 8   PLN     5988 non-null   float64\n",
            " 9   RON     4324 non-null   float64\n",
            " 10  SEK     5988 non-null   float64\n",
            " 11  CHF     5988 non-null   float64\n",
            " 12  NOK     5988 non-null   float64\n",
            " 13  HRK     4389 non-null   float64\n",
            " 14  RUB     4333 non-null   float64\n",
            " 15  TRY     4451 non-null   float64\n",
            " 16  AUD     5988 non-null   float64\n",
            " 17  CAD     5988 non-null   float64\n",
            " 18  CNY     4389 non-null   float64\n",
            " 19  HKD     5988 non-null   float64\n",
            " 20  IDR     4389 non-null   float64\n",
            " 21  KRW     5988 non-null   float64\n",
            " 22  MYR     4389 non-null   float64\n",
            " 23  NZD     5988 non-null   float64\n",
            " 24  PHP     4389 non-null   float64\n",
            " 25  SGD     5988 non-null   float64\n",
            " 26  THB     4389 non-null   float64\n",
            " 27  ZAR     5988 non-null   float64\n",
            "dtypes: float64(27), object(1)\n",
            "memory usage: 1.3+ MB\n"
          ]
        }
      ]
    },
    {
      "cell_type": "code",
      "source": [
        "forex_data.describe()"
      ],
      "metadata": {
        "colab": {
          "base_uri": "https://localhost:8080/",
          "height": 394
        },
        "id": "9AsRxBzcFZ1x",
        "outputId": "5a3e29e3-0648-483a-a601-4da23142c45c"
      },
      "execution_count": null,
      "outputs": [
        {
          "output_type": "execute_result",
          "data": {
            "text/plain": [
              "               EUR          JPY          BGN          CZK          DKK  \\\n",
              "count  5988.000000  5988.000000  5590.000000  5988.000000  5988.000000   \n",
              "mean      1.197371     0.009471     0.618686     0.043380     0.160753   \n",
              "std       0.158157     0.001263     0.079349     0.009171     0.021186   \n",
              "min       0.825200     0.007418     0.424028     0.023699     0.110868   \n",
              "25%       1.101475     0.008590     0.571173     0.039112     0.147744   \n",
              "50%       1.193200     0.009158     0.618305     0.044238     0.160193   \n",
              "75%       1.314225     0.009768     0.675631     0.049620     0.176494   \n",
              "max       1.599000     0.013198     0.817568     0.069174     0.214352   \n",
              "\n",
              "               GBP          HUF          PLN          RON          SEK  ...  \\\n",
              "count  5988.000000  5988.000000  5988.000000  4324.000000  5988.000000  ...   \n",
              "mean      1.561889     0.004249     0.290220     0.295604     0.127228  ...   \n",
              "std       0.207883     0.000782     0.048348     0.057346     0.018481  ...   \n",
              "min       1.159837     0.002697     0.212185     0.209989     0.090564  ...   \n",
              "25%       1.405618     0.003553     0.253846     0.245446     0.113345  ...   \n",
              "50%       1.561633     0.004245     0.272142     0.292226     0.123383  ...   \n",
              "75%       1.657185     0.004782     0.319832     0.333669     0.143235  ...   \n",
              "max       2.106427     0.006949     0.493156     0.447877     0.171058  ...   \n",
              "\n",
              "               CNY          HKD          IDR          KRW          MYR  \\\n",
              "count  4389.000000  5988.000000  4389.000000  5988.000000  4389.000000   \n",
              "mean      0.148168     0.128522     0.000090     0.000889     0.275643   \n",
              "std       0.011375     0.000452     0.000017     0.000079     0.033805   \n",
              "min       0.120823     0.127388     0.000060     0.000632     0.222348   \n",
              "25%       0.144162     0.128213     0.000073     0.000842     0.241734   \n",
              "50%       0.149175     0.128610     0.000087     0.000881     0.273450   \n",
              "75%       0.157147     0.128937     0.000108     0.000924     0.308121   \n",
              "max       0.165486     0.130629     0.000118     0.001110     0.340193   \n",
              "\n",
              "               NZD          PHP          SGD          THB          ZAR  \n",
              "count  5988.000000  4389.000000  5988.000000  4389.000000  5988.000000  \n",
              "mean      0.667506     0.021162     0.687051     0.030358     0.111917  \n",
              "std       0.114494     0.001717     0.081993     0.002251     0.034035  \n",
              "min       0.392030     0.017763     0.539303     0.023732     0.052436  \n",
              "25%       0.618446     0.019711     0.596808     0.029057     0.075741  \n",
              "50%       0.687453     0.021034     0.714690     0.030708     0.118701  \n",
              "75%       0.737894     0.022631     0.743092     0.032013     0.141090  \n",
              "max       0.881819     0.024863     0.833285     0.034965     0.177974  \n",
              "\n",
              "[8 rows x 27 columns]"
            ],
            "text/html": [
              "\n",
              "  <div id=\"df-da6b68d0-c91c-49f4-bee3-7682c84f180c\">\n",
              "    <div class=\"colab-df-container\">\n",
              "      <div>\n",
              "<style scoped>\n",
              "    .dataframe tbody tr th:only-of-type {\n",
              "        vertical-align: middle;\n",
              "    }\n",
              "\n",
              "    .dataframe tbody tr th {\n",
              "        vertical-align: top;\n",
              "    }\n",
              "\n",
              "    .dataframe thead th {\n",
              "        text-align: right;\n",
              "    }\n",
              "</style>\n",
              "<table border=\"1\" class=\"dataframe\">\n",
              "  <thead>\n",
              "    <tr style=\"text-align: right;\">\n",
              "      <th></th>\n",
              "      <th>EUR</th>\n",
              "      <th>JPY</th>\n",
              "      <th>BGN</th>\n",
              "      <th>CZK</th>\n",
              "      <th>DKK</th>\n",
              "      <th>GBP</th>\n",
              "      <th>HUF</th>\n",
              "      <th>PLN</th>\n",
              "      <th>RON</th>\n",
              "      <th>SEK</th>\n",
              "      <th>...</th>\n",
              "      <th>CNY</th>\n",
              "      <th>HKD</th>\n",
              "      <th>IDR</th>\n",
              "      <th>KRW</th>\n",
              "      <th>MYR</th>\n",
              "      <th>NZD</th>\n",
              "      <th>PHP</th>\n",
              "      <th>SGD</th>\n",
              "      <th>THB</th>\n",
              "      <th>ZAR</th>\n",
              "    </tr>\n",
              "  </thead>\n",
              "  <tbody>\n",
              "    <tr>\n",
              "      <th>count</th>\n",
              "      <td>5988.000000</td>\n",
              "      <td>5988.000000</td>\n",
              "      <td>5590.000000</td>\n",
              "      <td>5988.000000</td>\n",
              "      <td>5988.000000</td>\n",
              "      <td>5988.000000</td>\n",
              "      <td>5988.000000</td>\n",
              "      <td>5988.000000</td>\n",
              "      <td>4324.000000</td>\n",
              "      <td>5988.000000</td>\n",
              "      <td>...</td>\n",
              "      <td>4389.000000</td>\n",
              "      <td>5988.000000</td>\n",
              "      <td>4389.000000</td>\n",
              "      <td>5988.000000</td>\n",
              "      <td>4389.000000</td>\n",
              "      <td>5988.000000</td>\n",
              "      <td>4389.000000</td>\n",
              "      <td>5988.000000</td>\n",
              "      <td>4389.000000</td>\n",
              "      <td>5988.000000</td>\n",
              "    </tr>\n",
              "    <tr>\n",
              "      <th>mean</th>\n",
              "      <td>1.197371</td>\n",
              "      <td>0.009471</td>\n",
              "      <td>0.618686</td>\n",
              "      <td>0.043380</td>\n",
              "      <td>0.160753</td>\n",
              "      <td>1.561889</td>\n",
              "      <td>0.004249</td>\n",
              "      <td>0.290220</td>\n",
              "      <td>0.295604</td>\n",
              "      <td>0.127228</td>\n",
              "      <td>...</td>\n",
              "      <td>0.148168</td>\n",
              "      <td>0.128522</td>\n",
              "      <td>0.000090</td>\n",
              "      <td>0.000889</td>\n",
              "      <td>0.275643</td>\n",
              "      <td>0.667506</td>\n",
              "      <td>0.021162</td>\n",
              "      <td>0.687051</td>\n",
              "      <td>0.030358</td>\n",
              "      <td>0.111917</td>\n",
              "    </tr>\n",
              "    <tr>\n",
              "      <th>std</th>\n",
              "      <td>0.158157</td>\n",
              "      <td>0.001263</td>\n",
              "      <td>0.079349</td>\n",
              "      <td>0.009171</td>\n",
              "      <td>0.021186</td>\n",
              "      <td>0.207883</td>\n",
              "      <td>0.000782</td>\n",
              "      <td>0.048348</td>\n",
              "      <td>0.057346</td>\n",
              "      <td>0.018481</td>\n",
              "      <td>...</td>\n",
              "      <td>0.011375</td>\n",
              "      <td>0.000452</td>\n",
              "      <td>0.000017</td>\n",
              "      <td>0.000079</td>\n",
              "      <td>0.033805</td>\n",
              "      <td>0.114494</td>\n",
              "      <td>0.001717</td>\n",
              "      <td>0.081993</td>\n",
              "      <td>0.002251</td>\n",
              "      <td>0.034035</td>\n",
              "    </tr>\n",
              "    <tr>\n",
              "      <th>min</th>\n",
              "      <td>0.825200</td>\n",
              "      <td>0.007418</td>\n",
              "      <td>0.424028</td>\n",
              "      <td>0.023699</td>\n",
              "      <td>0.110868</td>\n",
              "      <td>1.159837</td>\n",
              "      <td>0.002697</td>\n",
              "      <td>0.212185</td>\n",
              "      <td>0.209989</td>\n",
              "      <td>0.090564</td>\n",
              "      <td>...</td>\n",
              "      <td>0.120823</td>\n",
              "      <td>0.127388</td>\n",
              "      <td>0.000060</td>\n",
              "      <td>0.000632</td>\n",
              "      <td>0.222348</td>\n",
              "      <td>0.392030</td>\n",
              "      <td>0.017763</td>\n",
              "      <td>0.539303</td>\n",
              "      <td>0.023732</td>\n",
              "      <td>0.052436</td>\n",
              "    </tr>\n",
              "    <tr>\n",
              "      <th>25%</th>\n",
              "      <td>1.101475</td>\n",
              "      <td>0.008590</td>\n",
              "      <td>0.571173</td>\n",
              "      <td>0.039112</td>\n",
              "      <td>0.147744</td>\n",
              "      <td>1.405618</td>\n",
              "      <td>0.003553</td>\n",
              "      <td>0.253846</td>\n",
              "      <td>0.245446</td>\n",
              "      <td>0.113345</td>\n",
              "      <td>...</td>\n",
              "      <td>0.144162</td>\n",
              "      <td>0.128213</td>\n",
              "      <td>0.000073</td>\n",
              "      <td>0.000842</td>\n",
              "      <td>0.241734</td>\n",
              "      <td>0.618446</td>\n",
              "      <td>0.019711</td>\n",
              "      <td>0.596808</td>\n",
              "      <td>0.029057</td>\n",
              "      <td>0.075741</td>\n",
              "    </tr>\n",
              "    <tr>\n",
              "      <th>50%</th>\n",
              "      <td>1.193200</td>\n",
              "      <td>0.009158</td>\n",
              "      <td>0.618305</td>\n",
              "      <td>0.044238</td>\n",
              "      <td>0.160193</td>\n",
              "      <td>1.561633</td>\n",
              "      <td>0.004245</td>\n",
              "      <td>0.272142</td>\n",
              "      <td>0.292226</td>\n",
              "      <td>0.123383</td>\n",
              "      <td>...</td>\n",
              "      <td>0.149175</td>\n",
              "      <td>0.128610</td>\n",
              "      <td>0.000087</td>\n",
              "      <td>0.000881</td>\n",
              "      <td>0.273450</td>\n",
              "      <td>0.687453</td>\n",
              "      <td>0.021034</td>\n",
              "      <td>0.714690</td>\n",
              "      <td>0.030708</td>\n",
              "      <td>0.118701</td>\n",
              "    </tr>\n",
              "    <tr>\n",
              "      <th>75%</th>\n",
              "      <td>1.314225</td>\n",
              "      <td>0.009768</td>\n",
              "      <td>0.675631</td>\n",
              "      <td>0.049620</td>\n",
              "      <td>0.176494</td>\n",
              "      <td>1.657185</td>\n",
              "      <td>0.004782</td>\n",
              "      <td>0.319832</td>\n",
              "      <td>0.333669</td>\n",
              "      <td>0.143235</td>\n",
              "      <td>...</td>\n",
              "      <td>0.157147</td>\n",
              "      <td>0.128937</td>\n",
              "      <td>0.000108</td>\n",
              "      <td>0.000924</td>\n",
              "      <td>0.308121</td>\n",
              "      <td>0.737894</td>\n",
              "      <td>0.022631</td>\n",
              "      <td>0.743092</td>\n",
              "      <td>0.032013</td>\n",
              "      <td>0.141090</td>\n",
              "    </tr>\n",
              "    <tr>\n",
              "      <th>max</th>\n",
              "      <td>1.599000</td>\n",
              "      <td>0.013198</td>\n",
              "      <td>0.817568</td>\n",
              "      <td>0.069174</td>\n",
              "      <td>0.214352</td>\n",
              "      <td>2.106427</td>\n",
              "      <td>0.006949</td>\n",
              "      <td>0.493156</td>\n",
              "      <td>0.447877</td>\n",
              "      <td>0.171058</td>\n",
              "      <td>...</td>\n",
              "      <td>0.165486</td>\n",
              "      <td>0.130629</td>\n",
              "      <td>0.000118</td>\n",
              "      <td>0.001110</td>\n",
              "      <td>0.340193</td>\n",
              "      <td>0.881819</td>\n",
              "      <td>0.024863</td>\n",
              "      <td>0.833285</td>\n",
              "      <td>0.034965</td>\n",
              "      <td>0.177974</td>\n",
              "    </tr>\n",
              "  </tbody>\n",
              "</table>\n",
              "<p>8 rows × 27 columns</p>\n",
              "</div>\n",
              "      <button class=\"colab-df-convert\" onclick=\"convertToInteractive('df-da6b68d0-c91c-49f4-bee3-7682c84f180c')\"\n",
              "              title=\"Convert this dataframe to an interactive table.\"\n",
              "              style=\"display:none;\">\n",
              "        \n",
              "  <svg xmlns=\"http://www.w3.org/2000/svg\" height=\"24px\"viewBox=\"0 0 24 24\"\n",
              "       width=\"24px\">\n",
              "    <path d=\"M0 0h24v24H0V0z\" fill=\"none\"/>\n",
              "    <path d=\"M18.56 5.44l.94 2.06.94-2.06 2.06-.94-2.06-.94-.94-2.06-.94 2.06-2.06.94zm-11 1L8.5 8.5l.94-2.06 2.06-.94-2.06-.94L8.5 2.5l-.94 2.06-2.06.94zm10 10l.94 2.06.94-2.06 2.06-.94-2.06-.94-.94-2.06-.94 2.06-2.06.94z\"/><path d=\"M17.41 7.96l-1.37-1.37c-.4-.4-.92-.59-1.43-.59-.52 0-1.04.2-1.43.59L10.3 9.45l-7.72 7.72c-.78.78-.78 2.05 0 2.83L4 21.41c.39.39.9.59 1.41.59.51 0 1.02-.2 1.41-.59l7.78-7.78 2.81-2.81c.8-.78.8-2.07 0-2.86zM5.41 20L4 18.59l7.72-7.72 1.47 1.35L5.41 20z\"/>\n",
              "  </svg>\n",
              "      </button>\n",
              "      \n",
              "  <style>\n",
              "    .colab-df-container {\n",
              "      display:flex;\n",
              "      flex-wrap:wrap;\n",
              "      gap: 12px;\n",
              "    }\n",
              "\n",
              "    .colab-df-convert {\n",
              "      background-color: #E8F0FE;\n",
              "      border: none;\n",
              "      border-radius: 50%;\n",
              "      cursor: pointer;\n",
              "      display: none;\n",
              "      fill: #1967D2;\n",
              "      height: 32px;\n",
              "      padding: 0 0 0 0;\n",
              "      width: 32px;\n",
              "    }\n",
              "\n",
              "    .colab-df-convert:hover {\n",
              "      background-color: #E2EBFA;\n",
              "      box-shadow: 0px 1px 2px rgba(60, 64, 67, 0.3), 0px 1px 3px 1px rgba(60, 64, 67, 0.15);\n",
              "      fill: #174EA6;\n",
              "    }\n",
              "\n",
              "    [theme=dark] .colab-df-convert {\n",
              "      background-color: #3B4455;\n",
              "      fill: #D2E3FC;\n",
              "    }\n",
              "\n",
              "    [theme=dark] .colab-df-convert:hover {\n",
              "      background-color: #434B5C;\n",
              "      box-shadow: 0px 1px 3px 1px rgba(0, 0, 0, 0.15);\n",
              "      filter: drop-shadow(0px 1px 2px rgba(0, 0, 0, 0.3));\n",
              "      fill: #FFFFFF;\n",
              "    }\n",
              "  </style>\n",
              "\n",
              "      <script>\n",
              "        const buttonEl =\n",
              "          document.querySelector('#df-da6b68d0-c91c-49f4-bee3-7682c84f180c button.colab-df-convert');\n",
              "        buttonEl.style.display =\n",
              "          google.colab.kernel.accessAllowed ? 'block' : 'none';\n",
              "\n",
              "        async function convertToInteractive(key) {\n",
              "          const element = document.querySelector('#df-da6b68d0-c91c-49f4-bee3-7682c84f180c');\n",
              "          const dataTable =\n",
              "            await google.colab.kernel.invokeFunction('convertToInteractive',\n",
              "                                                     [key], {});\n",
              "          if (!dataTable) return;\n",
              "\n",
              "          const docLinkHtml = 'Like what you see? Visit the ' +\n",
              "            '<a target=\"_blank\" href=https://colab.research.google.com/notebooks/data_table.ipynb>data table notebook</a>'\n",
              "            + ' to learn more about interactive tables.';\n",
              "          element.innerHTML = '';\n",
              "          dataTable['output_type'] = 'display_data';\n",
              "          await google.colab.output.renderOutput(dataTable, element);\n",
              "          const docLink = document.createElement('div');\n",
              "          docLink.innerHTML = docLinkHtml;\n",
              "          element.appendChild(docLink);\n",
              "        }\n",
              "      </script>\n",
              "    </div>\n",
              "  </div>\n",
              "  "
            ]
          },
          "metadata": {},
          "execution_count": 69
        }
      ]
    },
    {
      "cell_type": "code",
      "source": [
        "forex_data.BGN.describe()"
      ],
      "metadata": {
        "colab": {
          "base_uri": "https://localhost:8080/"
        },
        "id": "FDkH_1hvFkog",
        "outputId": "a8455333-4301-4d99-f24e-4b1d16a367eb"
      },
      "execution_count": null,
      "outputs": [
        {
          "output_type": "execute_result",
          "data": {
            "text/plain": [
              "count    5590.000000\n",
              "mean        0.618686\n",
              "std         0.079349\n",
              "min         0.424028\n",
              "25%         0.571173\n",
              "50%         0.618305\n",
              "75%         0.675631\n",
              "max         0.817568\n",
              "Name: BGN, dtype: float64"
            ]
          },
          "metadata": {},
          "execution_count": 70
        }
      ]
    },
    {
      "cell_type": "code",
      "source": [
        "forex_data['BGN'] = forex_data['BGN'].fillna(forex_data['BGN'].mean())\n",
        "forex_data.BGN.describe()"
      ],
      "metadata": {
        "colab": {
          "base_uri": "https://localhost:8080/"
        },
        "id": "pW1qvqxxF3Sw",
        "outputId": "ad10ea12-9532-426c-8def-a2653d90c8e2"
      },
      "execution_count": null,
      "outputs": [
        {
          "output_type": "execute_result",
          "data": {
            "text/plain": [
              "count    5988.000000\n",
              "mean        0.618686\n",
              "std         0.076667\n",
              "min         0.424028\n",
              "25%         0.573525\n",
              "50%         0.618686\n",
              "75%         0.671954\n",
              "max         0.817568\n",
              "Name: BGN, dtype: float64"
            ]
          },
          "metadata": {},
          "execution_count": 71
        }
      ]
    },
    {
      "cell_type": "code",
      "source": [
        "forex_data.RON.describe()"
      ],
      "metadata": {
        "colab": {
          "base_uri": "https://localhost:8080/"
        },
        "id": "L6VVjDvwGaT3",
        "outputId": "b778d5a9-bc3c-4c58-e01d-8bc0fc5ecea5"
      },
      "execution_count": null,
      "outputs": [
        {
          "output_type": "execute_result",
          "data": {
            "text/plain": [
              "count    4324.000000\n",
              "mean        0.295604\n",
              "std         0.057346\n",
              "min         0.209989\n",
              "25%         0.245446\n",
              "50%         0.292226\n",
              "75%         0.333669\n",
              "max         0.447877\n",
              "Name: RON, dtype: float64"
            ]
          },
          "metadata": {},
          "execution_count": 72
        }
      ]
    },
    {
      "cell_type": "code",
      "source": [
        "forex_data['RON'] = forex_data['RON'].fillna(forex_data['RON'].mean())\n",
        "forex_data.RON.describe()"
      ],
      "metadata": {
        "colab": {
          "base_uri": "https://localhost:8080/"
        },
        "id": "EZBugHusGixX",
        "outputId": "b7ddc0d5-2fac-4a94-bf5d-4175188bd0e4"
      },
      "execution_count": null,
      "outputs": [
        {
          "output_type": "execute_result",
          "data": {
            "text/plain": [
              "count    5988.000000\n",
              "mean        0.295604\n",
              "std         0.048729\n",
              "min         0.209989\n",
              "25%         0.252001\n",
              "50%         0.295604\n",
              "75%         0.309890\n",
              "max         0.447877\n",
              "Name: RON, dtype: float64"
            ]
          },
          "metadata": {},
          "execution_count": 74
        }
      ]
    },
    {
      "cell_type": "code",
      "source": [
        "forex_data['HRK'] = forex_data['HRK'].fillna(forex_data['HRK'].mean())\n",
        "forex_data['RUB'] = forex_data['RUB'].fillna(forex_data['RUB'].mean())\n",
        "forex_data['TRY'] = forex_data['TRY'].fillna(forex_data['TRY'].mean())\n",
        "forex_data['CNY'] = forex_data['CNY'].fillna(forex_data['CNY'].mean())\n",
        "forex_data['IDR'] = forex_data['IDR'].fillna(forex_data['IDR'].mean())\n",
        "forex_data['MYR'] = forex_data['MYR'].fillna(forex_data['MYR'].mean())\n",
        "forex_data['PHP'] = forex_data['PHP'].fillna(forex_data['PHP'].mean())\n",
        "forex_data['THB'] = forex_data['THB'].fillna(forex_data['THB'].mean())\n",
        "\n"
      ],
      "metadata": {
        "id": "kRDlRYVdGwKv"
      },
      "execution_count": null,
      "outputs": []
    },
    {
      "cell_type": "code",
      "source": [
        "forex_data.isnull().sum()"
      ],
      "metadata": {
        "colab": {
          "base_uri": "https://localhost:8080/"
        },
        "id": "jKQ5U_S9HtAP",
        "outputId": "a172b1fd-e3a8-45be-ab73-06cda1191150"
      },
      "execution_count": null,
      "outputs": [
        {
          "output_type": "execute_result",
          "data": {
            "text/plain": [
              "Date    0\n",
              "EUR     0\n",
              "JPY     0\n",
              "BGN     0\n",
              "CZK     0\n",
              "DKK     0\n",
              "GBP     0\n",
              "HUF     0\n",
              "PLN     0\n",
              "RON     0\n",
              "SEK     0\n",
              "CHF     0\n",
              "NOK     0\n",
              "HRK     0\n",
              "RUB     0\n",
              "TRY     0\n",
              "AUD     0\n",
              "CAD     0\n",
              "CNY     0\n",
              "HKD     0\n",
              "IDR     0\n",
              "KRW     0\n",
              "MYR     0\n",
              "NZD     0\n",
              "PHP     0\n",
              "SGD     0\n",
              "THB     0\n",
              "ZAR     0\n",
              "dtype: int64"
            ]
          },
          "metadata": {},
          "execution_count": 76
        }
      ]
    },
    {
      "cell_type": "code",
      "source": [
        "plt.figure(figsize=(10,6))\n",
        "sns.displot(\n",
        "    data=forex_data.isna().melt(value_name=\"missing\"),\n",
        "    y=\"variable\",\n",
        "    hue=\"missing\",\n",
        "    multiple=\"fill\",\n",
        "    aspect=1.25\n",
        ")\n",
        "plt.savefig(\"visualizing_missing_data_with_barplot_Seaborn_distplot.png\", dpi=100)"
      ],
      "metadata": {
        "colab": {
          "base_uri": "https://localhost:8080/",
          "height": 386
        },
        "id": "2BEsiiLIH1d3",
        "outputId": "b37e05f1-656b-43de-d31f-e0bbc93fa1df"
      },
      "execution_count": null,
      "outputs": [
        {
          "output_type": "display_data",
          "data": {
            "text/plain": [
              "<Figure size 720x432 with 0 Axes>"
            ]
          },
          "metadata": {}
        },
        {
          "output_type": "display_data",
          "data": {
            "text/plain": [
              "<Figure size 511.25x360 with 1 Axes>"
            ],
            "image/png": "[encoded data removed]"
          },
          "metadata": {
            "needs_background": "light"
          }
        }
      ]
    },
    {
      "cell_type": "code",
      "source": [
        "correlation = forex_data.corr()"
      ],
      "metadata": {
        "id": "9f-5C-ZeH7_A"
      },
      "execution_count": null,
      "outputs": []
    },
    {
      "cell_type": "code",
      "source": [
        "plt.figure(figsize = (16,16))\n",
        "sns.heatmap(correlation, cbar=True, square=True, fmt='.1f',annot=True, annot_kws={'size':8}, cmap='Blues')\n"
      ],
      "metadata": {
        "colab": {
          "base_uri": "https://localhost:8080/",
          "height": 922
        },
        "id": "Gy7BUurzIYlu",
        "outputId": "c24ea734-ab06-4fbf-c095-2d1fd8cf7434"
      },
      "execution_count": null,
      "outputs": [
        {
          "output_type": "execute_result",
          "data": {
            "text/plain": [
              "<matplotlib.axes._subplots.AxesSubplot at 0x7f8e3f9a0f90>"
            ]
          },
          "metadata": {},
          "execution_count": 80
        },
        {
          "output_type": "display_data",
          "data": {
            "text/plain": [
              "<Figure size 1152x1152 with 2 Axes>"
            ],
            "image/png": "[encoded data removed]"
          },
          "metadata": {
            "needs_background": "light"
          }
        }
      ]
    },
    {
      "cell_type": "code",
      "source": [
        "# correlation values of GLD\n",
        "print(correlation['EUR'])"
      ],
      "metadata": {
        "colab": {
          "base_uri": "https://localhost:8080/"
        },
        "id": "dyMvGM_LI2Jm",
        "outputId": "1b33a221-db88-476d-aa39-f4b80e9c475c"
      },
      "execution_count": null,
      "outputs": [
        {
          "output_type": "stream",
          "name": "stdout",
          "text": [
            "EUR    1.000000\n",
            "JPY    0.549708\n",
            "BGN    0.952915\n",
            "CZK    0.918843\n",
            "DKK    0.999940\n",
            "GBP    0.543157\n",
            "HUF    0.778999\n",
            "PLN    0.887382\n",
            "RON    0.567806\n",
            "SEK    0.894268\n",
            "CHF    0.556925\n",
            "NOK    0.853881\n",
            "HRK    0.666186\n",
            "RUB    0.547798\n",
            "TRY    0.510019\n",
            "AUD    0.827133\n",
            "CAD    0.880047\n",
            "CNY   -0.022448\n",
            "HKD    0.228352\n",
            "IDR    0.514219\n",
            "KRW    0.509091\n",
            "MYR    0.535417\n",
            "NZD    0.781739\n",
            "PHP    0.387724\n",
            "SGD    0.555692\n",
            "THB    0.160401\n",
            "ZAR    0.237868\n",
            "Name: EUR, dtype: float64\n"
          ]
        }
      ]
    },
    {
      "cell_type": "code",
      "source": [
        "# checking the distribution of the EURO\n",
        "sns.distplot(forex_data['EUR'],color='green')"
      ],
      "metadata": {
        "colab": {
          "base_uri": "https://localhost:8080/",
          "height": 351
        },
        "id": "2_X0ChQKJAPu",
        "outputId": "9bc4eb8c-16d7-4386-bc5d-1b82c5b0abd6"
      },
      "execution_count": null,
      "outputs": [
        {
          "output_type": "stream",
          "name": "stderr",
          "text": [
            "/usr/local/lib/python3.7/dist-packages/seaborn/distributions.py:2619: FutureWarning: `distplot` is a deprecated function and will be removed in a future version. Please adapt your code to use either `displot` (a figure-level function with similar flexibility) or `histplot` (an axes-level function for histograms).\n",
            "  warnings.warn(msg, FutureWarning)\n"
          ]
        },
        {
          "output_type": "execute_result",
          "data": {
            "text/plain": [
              "<matplotlib.axes._subplots.AxesSubplot at 0x7f8e36353390>"
            ]
          },
          "metadata": {},
          "execution_count": 82
        },
        {
          "output_type": "display_data",
          "data": {
            "text/plain": [
              "<Figure size 432x288 with 1 Axes>"
            ],
            "image/png": "[encoded data removed]"
          },
          "metadata": {
            "needs_background": "light"
          }
        }
      ]
    },
    {
      "cell_type": "code",
      "source": [
        "X = forex_data.drop(['Date','EUR'],axis=1)\n",
        "Y = forex_data['EUR']"
      ],
      "metadata": {
        "id": "RZqdKXJZJITa"
      },
      "execution_count": null,
      "outputs": []
    },
    {
      "cell_type": "code",
      "source": [
        "print(X)"
      ],
      "metadata": {
        "colab": {
          "base_uri": "https://localhost:8080/"
        },
        "id": "3cVrXhy3JUvO",
        "outputId": "dae77442-f9ec-4112-c982-bae42ffee0ae"
      },
      "execution_count": null,
      "outputs": [
        {
          "output_type": "stream",
          "name": "stdout",
          "text": [
            "           JPY       BGN       CZK       DKK       GBP       HUF       PLN  \\\n",
            "1     0.007815  0.540802  0.042874  0.142118  1.246994  0.002762  0.228125   \n",
            "2     0.007828  0.538143  0.042611  0.141421  1.242210  0.002728  0.226720   \n",
            "3     0.007751  0.538041  0.042695  0.141402  1.242825  0.002748  0.226579   \n",
            "4     0.007733  0.538961  0.042655  0.141653  1.248934  0.002729  0.226747   \n",
            "5     0.007719  0.532877  0.042177  0.140047  1.225469  0.002701  0.223289   \n",
            "...        ...       ...       ...       ...       ...       ...       ...   \n",
            "5984  0.008962  0.618686  0.033371  0.156638  1.643502  0.004661  0.288854   \n",
            "5985  0.008987  0.618686  0.033343  0.156279  1.647942  0.004651  0.289605   \n",
            "5986  0.008935  0.618686  0.033696  0.157726  1.659553  0.004685  0.293099   \n",
            "5987  0.009003  0.618686  0.033766  0.158266  1.655434  0.004701  0.292956   \n",
            "5988  0.008816  0.618686  0.033580  0.158239  1.657854  0.004688  0.289571   \n",
            "\n",
            "           RON       SEK       CHF  ...       CNY       HKD       IDR  \\\n",
            "1     0.213776  0.100815  1.028891  ...  0.149735  0.127435  0.000068   \n",
            "2     0.212738  0.100145  1.025329  ...  0.148181  0.127431  0.000068   \n",
            "3     0.212702  0.100530  1.003529  ...  0.148270  0.127411  0.000068   \n",
            "4     0.213044  0.100974  1.008033  ...  0.148676  0.127393  0.000068   \n",
            "5     0.210677  0.099278  0.994561  ...  0.147233  0.127390  0.000068   \n",
            "...        ...       ...       ...  ...       ...       ...       ...   \n",
            "5984  0.295604  0.127212  0.722456  ...  0.148168  0.129111  0.000090   \n",
            "5985  0.295604  0.126710  0.719579  ...  0.148168  0.129057  0.000090   \n",
            "5986  0.295604  0.126201  0.728655  ...  0.148168  0.129030  0.000090   \n",
            "5987  0.295604  0.125392  0.731253  ...  0.148168  0.129077  0.000090   \n",
            "5988  0.295604  0.124493  0.729156  ...  0.148168  0.129079  0.000090   \n",
            "\n",
            "           KRW       MYR       NZD       PHP       SGD       THB       ZAR  \n",
            "1     0.000789  0.227845  0.640332  0.019168  0.725048  0.029151  0.063286  \n",
            "2     0.000784  0.227013  0.635913  0.019088  0.722077  0.028960  0.062532  \n",
            "3     0.000790  0.227505  0.635908  0.019106  0.720852  0.028910  0.062894  \n",
            "4     0.000790  0.228106  0.636495  0.019118  0.722531  0.028990  0.062580  \n",
            "5     0.000779  0.227376  0.627794  0.019051  0.717225  0.028731  0.061598  \n",
            "...        ...       ...       ...       ...       ...       ...       ...  \n",
            "5984  0.000853  0.275643  0.540845  0.021162  0.596765  0.030358  0.171822  \n",
            "5985  0.000870  0.275643  0.540244  0.021162  0.598477  0.030358  0.170350  \n",
            "5986  0.000864  0.275643  0.536455  0.021162  0.596122  0.030358  0.174469  \n",
            "5987  0.000859  0.275643  0.535641  0.021162  0.599847  0.030358  0.173446  \n",
            "5988  0.000843  0.275643  0.530343  0.021162  0.602895  0.030358  0.169973  \n",
            "\n",
            "[5988 rows x 26 columns]\n"
          ]
        }
      ]
    },
    {
      "cell_type": "code",
      "source": [
        "print(Y)"
      ],
      "metadata": {
        "colab": {
          "base_uri": "https://localhost:8080/"
        },
        "id": "DBUkPu3eJX4F",
        "outputId": "f08a50b9-5a2d-4372-a37b-e6e65be0105b"
      },
      "execution_count": null,
      "outputs": [
        {
          "output_type": "stream",
          "name": "stdout",
          "text": [
            "1       1.0577\n",
            "2       1.0525\n",
            "3       1.0523\n",
            "4       1.0541\n",
            "5       1.0422\n",
            "         ...  \n",
            "5984    1.1659\n",
            "5985    1.1632\n",
            "5986    1.1743\n",
            "5987    1.1790\n",
            "5988    1.1789\n",
            "Name: EUR, Length: 5988, dtype: float64\n"
          ]
        }
      ]
    },
    {
      "cell_type": "code",
      "source": [
        "X_train, X_test, Y_train, Y_test = train_test_split(X, Y, test_size = 0.2, random_state=2)"
      ],
      "metadata": {
        "id": "mM9AZr7mJrDT"
      },
      "execution_count": null,
      "outputs": []
    },
    {
      "cell_type": "code",
      "source": [
        "regressor = RandomForestRegressor(n_estimators=100)"
      ],
      "metadata": {
        "id": "NqnXVTB5JtcF"
      },
      "execution_count": null,
      "outputs": []
    },
    {
      "cell_type": "code",
      "source": [
        "regressor.fit(X_train,Y_train)"
      ],
      "metadata": {
        "colab": {
          "base_uri": "https://localhost:8080/"
        },
        "id": "DhniJsE_JvvF",
        "outputId": "882242f6-f4ff-40f9-d894-3d6506b0e296"
      },
      "execution_count": null,
      "outputs": [
        {
          "output_type": "execute_result",
          "data": {
            "text/plain": [
              "RandomForestRegressor()"
            ]
          },
          "metadata": {},
          "execution_count": 88
        }
      ]
    },
    {
      "cell_type": "code",
      "source": [
        "test_data_prediction = regressor.predict(X_test)"
      ],
      "metadata": {
        "id": "Q2t6p9JGJ0LN"
      },
      "execution_count": null,
      "outputs": []
    },
    {
      "cell_type": "code",
      "source": [
        "print(test_data_prediction)"
      ],
      "metadata": {
        "colab": {
          "base_uri": "https://localhost:8080/"
        },
        "id": "34aVxOlEJ3J1",
        "outputId": "883040bd-2380-475b-c605-b85e13f91534"
      },
      "execution_count": null,
      "outputs": [
        {
          "output_type": "stream",
          "name": "stdout",
          "text": [
            "[1.309165 0.975909 1.301971 ... 1.566535 1.363302 1.294195]\n"
          ]
        }
      ]
    },
    {
      "cell_type": "code",
      "source": [
        "error_score = metrics.r2_score(Y_test, test_data_prediction)\n",
        "print(\"R squared error : \", error_score)"
      ],
      "metadata": {
        "colab": {
          "base_uri": "https://localhost:8080/"
        },
        "id": "vttQvT8HJ5XV",
        "outputId": "10dcb15e-fc5e-454b-c666-baba311070d0"
      },
      "execution_count": null,
      "outputs": [
        {
          "output_type": "stream",
          "name": "stdout",
          "text": [
            "R squared error :  0.9999809192620246\n"
          ]
        }
      ]
    },
    {
      "cell_type": "code",
      "source": [
        "Y_test = list(Y_test)"
      ],
      "metadata": {
        "id": "5nSRmzhDJ_dW"
      },
      "execution_count": null,
      "outputs": []
    },
    {
      "cell_type": "code",
      "source": [
        "plt.plot(Y_test, color='blue', label = 'Actual Value')\n",
        "plt.title('Actual Price vs Predicted Price')\n",
        "plt.xlabel('Number of values')\n",
        "plt.ylabel('GLD Price')\n",
        "plt.legend()\n",
        "plt.show()"
      ],
      "metadata": {
        "colab": {
          "base_uri": "https://localhost:8080/",
          "height": 295
        },
        "id": "8YOSyDegKI9W",
        "outputId": "0fc21376-4998-4660-dc97-04a16b0f46d5"
      },
      "execution_count": null,
      "outputs": [
        {
          "output_type": "display_data",
          "data": {
            "text/plain": [
              "<Figure size 432x288 with 1 Axes>"
            ],
            "image/png": "[encoded data removed]"
          },
          "metadata": {
            "needs_background": "light"
          }
        }
      ]
    },
    {
      "cell_type": "code",
      "source": [
        "plt.plot(Y_test, color='blue', label = 'Actual Value')\n",
        "plt.plot(test_data_prediction, color='green', label='Predicted Value')\n",
        "plt.title('Actual Price vs Predicted Price')\n",
        "plt.xlabel('Number of values')\n",
        "plt.ylabel('GLD Price')\n",
        "plt.legend()\n",
        "plt.show()"
      ],
      "metadata": {
        "colab": {
          "base_uri": "https://localhost:8080/",
          "height": 295
        },
        "id": "8mdPO77XKCCN",
        "outputId": "fcb7dad7-806d-4e2e-fbca-31f7f1abd153"
      },
      "execution_count": null,
      "outputs": [
        {
          "output_type": "display_data",
          "data": {
            "text/plain": [
              "<Figure size 432x288 with 1 Axes>"
            ],
            "image/png": "[encoded data removed]"
          },
          "metadata": {
            "needs_background": "light"
          }
        }
      ]
    }
  ]
}