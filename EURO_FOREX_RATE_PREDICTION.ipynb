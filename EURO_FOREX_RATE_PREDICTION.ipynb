{
  "nbformat": 4,
  "nbformat_minor": 0,
  "metadata": {
    "colab": {
      "name": "EURO_FOREX_RATE_PREDICTION.ipynb",
      "provenance": [],
      "collapsed_sections": []
    },
    "kernelspec": {
      "name": "python3",
      "display_name": "Python 3"
    },
    "language_info": {
      "name": "python"
    }
  },
  "cells": [
    {
      "cell_type": "code",
      "execution_count": null,
      "metadata": {
        "id": "HsZV8CVCy125"
      },
      "outputs": [],
      "source": [
        "#PREDICT EURO Value againtes other foriegn currency exhange rates\n"
      ]
    }
  ]
}